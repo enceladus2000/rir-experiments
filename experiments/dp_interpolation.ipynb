{
 "cells": [
  {
   "cell_type": "code",
   "execution_count": 1,
   "metadata": {},
   "outputs": [],
   "source": [
    "import pandas as pd\n",
    "import scipy as sp\n",
    "from tqdm import tqdm\n",
    "import pickle\n",
    "import numpy as np\n",
    "import matplotlib.pyplot as plt\n",
    "import sys, os, copy\n",
    "from pathlib import Path\n",
    "import os\n",
    "\n",
    "THIS_PATH = Path(os.path.abspath(''))\n",
    "DATA_PATH = THIS_PATH.parent / \"data\"   # TODO: turn this into a snippet!"
   ]
  },
  {
   "cell_type": "code",
   "execution_count": 2,
   "metadata": {},
   "outputs": [],
   "source": [
    "import gir\n",
    "import gir.config as gc\n",
    "from gir.dataset.panel_data import PanelData, REFERENCE\n",
    "from gir.dataset.grid import Grid\n",
    "from gir.ml.preprocess import get_panel_names, plane_id_list\n",
    "from gir.config import DATA_PATH as GIR_DATA_PATH\n",
    "\n",
    "sys.path = [str(THIS_PATH.parent.absolute())] + sys.path\n",
    "from utils.gird import get_panel_surface\n",
    "\n",
    "fs = 96e3\n",
    "# TODO: Make this a snippet for this project!"
   ]
  },
  {
   "cell_type": "code",
   "execution_count": 3,
   "metadata": {},
   "outputs": [
    {
     "name": "stdout",
     "output_type": "stream",
     "text": [
      "['mean_flat_cg', 'mean_flat_rfl_1', 'mean_flat_rfl_2', 'mean_flat_vj_fu', 'mean_flat_vj_ph', 'panel_0001_0', 'panel_0001_1', 'panel_0002_1', 'panel_0003_0', 'panel_0003_1', 'panel_0004_0', 'panel_0004_1', 'panel_0005_0', 'panel_0005_1', 'panel_0006_0', 'panel_0006_1', 'panel_0007_0', 'panel_0007_1', 'panel_0008_0', 'panel_0008_1', 'panel_0009_0', 'panel_0009_1', 'panel_0010_0', 'panel_0010_1', 'panel_0011_0', 'panel_0011_1', 'panel_0012_0', 'panel_0012_1', 'panel_0013_0', 'panel_0013_1', 'panel_0014_1', 'panel_0015_0', 'panel_0015_1', 'panel_0016_0', 'panel_0016_1', 'panel_0016_r180_0', 'panel_0017_0', 'panel_0017_1', 'panel_0018_0', 'panel_0018_1', 'panel_0019_0', 'panel_0019_1', 'panel_0020_0', 'panel_0020_1', 'panel_0021_0', 'panel_0021_1', 'panel_0022_0', 'panel_0022_1', 'panel_0023_0', 'panel_0023_1', 'panel_0024_0', 'panel_0024_1', 'panel_0025_0', 'panel_0025_1', 'panel_0026_0', 'panel_0026_1', 'panel_0027_0', 'panel_0027_1', 'panel_0028_0', 'panel_0028_1', 'panel_0029_0', 'panel_0029_1', 'panel_0030_0', 'panel_0030_1', 'panel_0031_0', 'panel_0031_1', 'panel_0032_0', 'panel_0032_1', 'panel_0033_0', 'panel_0033_1', 'panel_0034_0', 'panel_0034_1', 'panel_0035_0', 'panel_0035_1', 'panel_0036_0', 'panel_0036_1', 'panel_0038_0', 'panel_0038_1', 'panel_0039_0', 'panel_0039_1', 'panel_0040_0', 'panel_0040_1', 'panel_0040_r180_0', 'panel_0040_r180_1', 'panel_0041_0', 'panel_0041_1', 'panel_0041_r180_0', 'panel_0041_r180_1', 'panel_0042_0', 'panel_0042_1', 'panel_0043_0', 'panel_0043_1', 'panel_0044_0', 'panel_0044_1', 'panel_0045_0', 'panel_0045_1', 'panel_0046_0', 'panel_0046_1', 'panel_0047_0', 'panel_0047_1', 'panel_0048_0', 'panel_0048_1', 'panel_0049_0', 'panel_0049_1', 'panel_0050_0', 'panel_0050_1', 'panel_0051_0', 'panel_0051_1', 'panel_0052_0', 'panel_0052_1', 'panel_0053_0', 'panel_0053_1', 'panel_0054_0', 'panel_0054_1', 'panel_0055_0', 'panel_0055_1', 'panel_0056_0', 'panel_0056_1', 'panel_0057_0', 'panel_0057_1', 'panel_0058_0', 'panel_0058_1', 'panel_0059_0', 'panel_0059_1', 'panel_0060_0', 'panel_0060_1', 'panel_0061_0', 'panel_0061_1', 'panel_0062_0', 'panel_0062_1', 'panel_0063_0', 'panel_0063_1', 'panel_0064_0', 'panel_0064_1', 'panel_0065_0', 'panel_0065_1', 'panel_0066_0', 'panel_0066_1', 'panel_0067_0', 'panel_0067_1', 'panel_0068_0', 'panel_0068_1', 'panel_0069_0', 'panel_0069_1', 'panel_0070_0', 'panel_0070_1', 'panel_0071_0', 'panel_0071_1', 'panel_0072_0', 'panel_0072_1', 'panel_0073_0', 'panel_0074_0', 'panel_0075_0', 'panel_0076_0', 'panel_0077_0', 'panel_0078_0', 'panel_0079_0', 'panel_0080_0', 'panel_0081_0', 'panel_0082_0', 'panel_0083_0', 'panel_0083_1', 'panel_0084_0', 'panel_0084_1', 'panel_0085_0', 'panel_0085_1', 'panel_0086_0', 'panel_0086_1', 'panel_0087_0', 'panel_0087_1', 'panel_0088_0', 'panel_0088_1', 'panel_0089_0', 'panel_0089_1', 'panel_0090_0', 'panel_0090_1', 'panel_0091_0', 'panel_0091_1', 'panel_0092_0', 'panel_0092_1', 'panel_0093_0', 'panel_0093_1', 'panel_0094_0', 'panel_0094_1', 'panel_0095_0', 'panel_0095_1', 'panel_0096_0', 'panel_0096_1', 'panel_0097_0', 'panel_0097_1', 'panel_0098_0', 'panel_0098_1', 'panel_0099_0', 'panel_0099_1', 'panel_0100_0', 'panel_0100_1', 'panel_0101_0', 'panel_0101_1', 'panel_0102_0', 'panel_0102_1', 'panel_0103_0', 'panel_0103_1', 'panel_0104_0', 'panel_0104_1', 'panel_0105_0', 'panel_0105_1', 'panel_0106_0', 'panel_0106_1', 'panel_0107_0', 'panel_0107_1', 'panel_0108_0', 'panel_0108_1', 'panel_0109_0', 'panel_0109_1', 'panel_0110_0', 'panel_0110_1', 'panel_0111_0', 'panel_0111_1', 'panel_0112_0', 'panel_0112_1', 'panel_0113_0', 'panel_0113_1', 'panel_0114_0', 'panel_0114_1', 'panel_0115_0', 'panel_0115_1', 'panel_0116_0', 'panel_0116_1', 'panel_0117_0', 'panel_0117_1', 'panel_0118_0', 'panel_0118_1', 'panel_0119_0', 'panel_0119_1', 'panel_0120_0', 'panel_0120_1', 'panel_0121_0', 'panel_0121_1', 'panel_0122_0', 'panel_0122_1', 'panel_0123_0', 'panel_0123_1', 'panel_0124_0', 'panel_0124_1', 'panel_0125_0', 'panel_0125_1', 'panel_0126_0', 'panel_0126_1', 'panel_0127_0', 'panel_0127_1', 'panel_0128_0', 'panel_0128_1', 'panel_0129_0', 'panel_0129_1', 'panel_0130_0', 'panel_0130_1', 'panel_0131_0', 'panel_0131_1', 'panel_0132_0', 'panel_0132_1', 'panel_0133_0', 'panel_0133_1', 'panel_0134_0', 'panel_0134_1', 'panel_0135_0', 'panel_0135_1', 'panel_0136_0', 'panel_0136_1', 'panel_0137_0', 'panel_0137_1', 'panel_0138_0', 'panel_0138_1', 'panel_0139_0', 'panel_0139_1', 'panel_0140_0', 'panel_0140_1', 'panel_0141_0', 'panel_0141_1', 'panel_0142_0', 'panel_0142_1']\n"
     ]
    }
   ],
   "source": [
    "panel_names = []\n",
    "\n",
    "with Path(DATA_PATH / \"panel_names.txt\").open() as f:\n",
    "    for line in f:\n",
    "        panel_names.append(line.strip())\n",
    "\n",
    "print(panel_names)"
   ]
  },
  {
   "cell_type": "code",
   "execution_count": 4,
   "metadata": {},
   "outputs": [
    {
     "data": {
      "text/html": [
       "<div>\n",
       "<style scoped>\n",
       "    .dataframe tbody tr th:only-of-type {\n",
       "        vertical-align: middle;\n",
       "    }\n",
       "\n",
       "    .dataframe tbody tr th {\n",
       "        vertical-align: top;\n",
       "    }\n",
       "\n",
       "    .dataframe thead th {\n",
       "        text-align: right;\n",
       "    }\n",
       "</style>\n",
       "<table border=\"1\" class=\"dataframe\">\n",
       "  <thead>\n",
       "    <tr style=\"text-align: right;\">\n",
       "      <th></th>\n",
       "      <th>combination</th>\n",
       "      <th>mic cell</th>\n",
       "      <th>spkr cell</th>\n",
       "      <th>angle</th>\n",
       "      <th>dp dly (geo)</th>\n",
       "      <th>echo dly (bz)</th>\n",
       "      <th>echo dly (tz)</th>\n",
       "      <th>echo dly (gpy)</th>\n",
       "      <th>spkr emit angle</th>\n",
       "      <th>mic rec angle</th>\n",
       "      <th>surf inc angle</th>\n",
       "      <th>dp echo diff</th>\n",
       "    </tr>\n",
       "  </thead>\n",
       "  <tbody>\n",
       "    <tr>\n",
       "      <th>2946</th>\n",
       "      <td>2947</td>\n",
       "      <td>[2, 2, 0]</td>\n",
       "      <td>[3, 0, 0]</td>\n",
       "      <td>15.35</td>\n",
       "      <td>72.964529</td>\n",
       "      <td>230.638597</td>\n",
       "      <td>208.970481</td>\n",
       "      <td>209.368811</td>\n",
       "      <td>34.0</td>\n",
       "      <td>115.0</td>\n",
       "      <td>15.0</td>\n",
       "      <td>146.840009</td>\n",
       "    </tr>\n",
       "    <tr>\n",
       "      <th>2947</th>\n",
       "      <td>2948</td>\n",
       "      <td>[2, 3, 0]</td>\n",
       "      <td>[3, 0, 0]</td>\n",
       "      <td>20.22</td>\n",
       "      <td>88.157712</td>\n",
       "      <td>235.885824</td>\n",
       "      <td>214.747809</td>\n",
       "      <td>215.404605</td>\n",
       "      <td>37.0</td>\n",
       "      <td>102.0</td>\n",
       "      <td>20.0</td>\n",
       "      <td>137.159105</td>\n",
       "    </tr>\n",
       "    <tr>\n",
       "      <th>2948</th>\n",
       "      <td>2949</td>\n",
       "      <td>[2, 3, 1]</td>\n",
       "      <td>[3, 0, 0]</td>\n",
       "      <td>15.35</td>\n",
       "      <td>72.964529</td>\n",
       "      <td>230.638597</td>\n",
       "      <td>208.970481</td>\n",
       "      <td>209.368811</td>\n",
       "      <td>34.0</td>\n",
       "      <td>115.0</td>\n",
       "      <td>15.0</td>\n",
       "      <td>146.840009</td>\n",
       "    </tr>\n",
       "    <tr>\n",
       "      <th>2949</th>\n",
       "      <td>2950</td>\n",
       "      <td>[2, 3, 2]</td>\n",
       "      <td>[3, 0, 0]</td>\n",
       "      <td>15.35</td>\n",
       "      <td>72.964529</td>\n",
       "      <td>230.638597</td>\n",
       "      <td>208.970481</td>\n",
       "      <td>209.368811</td>\n",
       "      <td>34.0</td>\n",
       "      <td>115.0</td>\n",
       "      <td>15.0</td>\n",
       "      <td>146.840009</td>\n",
       "    </tr>\n",
       "    <tr>\n",
       "      <th>2950</th>\n",
       "      <td>2951</td>\n",
       "      <td>[2, 3, 3]</td>\n",
       "      <td>[3, 0, 0]</td>\n",
       "      <td>20.22</td>\n",
       "      <td>88.157712</td>\n",
       "      <td>235.885824</td>\n",
       "      <td>214.747809</td>\n",
       "      <td>215.404605</td>\n",
       "      <td>37.0</td>\n",
       "      <td>102.0</td>\n",
       "      <td>20.0</td>\n",
       "      <td>137.159105</td>\n",
       "    </tr>\n",
       "  </tbody>\n",
       "</table>\n",
       "</div>"
      ],
      "text/plain": [
       "      combination   mic cell  spkr cell  angle  dp dly (geo)  echo dly (bz)  \\\n",
       "2946         2947  [2, 2, 0]  [3, 0, 0]  15.35     72.964529     230.638597   \n",
       "2947         2948  [2, 3, 0]  [3, 0, 0]  20.22     88.157712     235.885824   \n",
       "2948         2949  [2, 3, 1]  [3, 0, 0]  15.35     72.964529     230.638597   \n",
       "2949         2950  [2, 3, 2]  [3, 0, 0]  15.35     72.964529     230.638597   \n",
       "2950         2951  [2, 3, 3]  [3, 0, 0]  20.22     88.157712     235.885824   \n",
       "\n",
       "      echo dly (tz)  echo dly (gpy)  spkr emit angle  mic rec angle  \\\n",
       "2946     208.970481      209.368811             34.0          115.0   \n",
       "2947     214.747809      215.404605             37.0          102.0   \n",
       "2948     208.970481      209.368811             34.0          115.0   \n",
       "2949     208.970481      209.368811             34.0          115.0   \n",
       "2950     214.747809      215.404605             37.0          102.0   \n",
       "\n",
       "      surf inc angle  dp echo diff  \n",
       "2946            15.0    146.840009  \n",
       "2947            20.0    137.159105  \n",
       "2948            15.0    146.840009  \n",
       "2949            15.0    146.840009  \n",
       "2950            20.0    137.159105  "
      ]
     },
     "execution_count": 4,
     "metadata": {},
     "output_type": "execute_result"
    }
   ],
   "source": [
    "combs_df = pd.read_hdf(DATA_PATH / \"combinations_df.h5\", key=\"df\")\n",
    "combs_df = combs_df.sort_values('combination', ascending=True)\n",
    "combs_df.tail()"
   ]
  },
  {
   "cell_type": "code",
   "execution_count": 5,
   "metadata": {},
   "outputs": [
    {
     "data": {
      "text/plain": [
       "1065"
      ]
     },
     "execution_count": 5,
     "metadata": {},
     "output_type": "execute_result"
    }
   ],
   "source": [
    "combs_vwb_df = combs_df[combs_df['dp echo diff'] > 55]\n",
    "len(combs_vwb_df)"
   ]
  },
  {
   "cell_type": "markdown",
   "metadata": {},
   "source": [
    "## Emitter, Receiver Angles Histograms"
   ]
  },
  {
   "cell_type": "code",
   "execution_count": 6,
   "metadata": {},
   "outputs": [
    {
     "data": {
      "image/png": "[encoded data removed]",
      "text/plain": [
       "<Figure size 864x216 with 2 Axes>"
      ]
     },
     "metadata": {
      "needs_background": "light"
     },
     "output_type": "display_data"
    }
   ],
   "source": [
    "le_angles, mr_angles = combs_vwb_df[['spkr emit angle', 'mic rec angle']].values.T\n",
    "%matplotlib inline\n",
    "fig, axs = plt.subplots(1, 2, figsize=(12, 3))\n",
    "axs[0].hist(le_angles, bins=30)\n",
    "axs[0].set_title('Emitter angles')\n",
    "axs[1].hist(mr_angles, bins=30)\n",
    "axs[1].set_title('Receiver angles')\n",
    "plt.show()"
   ]
  },
  {
   "cell_type": "code",
   "execution_count": 7,
   "metadata": {},
   "outputs": [
    {
     "data": {
      "image/png": "[encoded data removed]",
      "text/plain": [
       "<Figure size 432x432 with 1 Axes>"
      ]
     },
     "metadata": {
      "needs_background": "light"
     },
     "output_type": "display_data"
    }
   ],
   "source": [
    "# make a 2d histogram of the emitter and receiver angles\n",
    "fig, ax = plt.subplots(1, 1, figsize=(6, 6))\n",
    "ax.hist2d(le_angles, mr_angles, bins=30)\n",
    "ax.set_xlabel('Emitter angle')\n",
    "ax.set_ylabel('Receiver angle')\n",
    "plt.show()"
   ]
  },
  {
   "cell_type": "code",
   "execution_count": 8,
   "metadata": {},
   "outputs": [
    {
     "data": {
      "text/plain": [
       "<matplotlib.image.AxesImage at 0x1e7320f6d90>"
      ]
     },
     "execution_count": 8,
     "metadata": {},
     "output_type": "execute_result"
    },
    {
     "data": {
      "image/png": "[encoded data removed]",
      "text/plain": [
       "<Figure size 432x288 with 1 Axes>"
      ]
     },
     "metadata": {
      "needs_background": "light"
     },
     "output_type": "display_data"
    }
   ],
   "source": [
    "panel = PanelData(panel_names[3])\n",
    "panel_surface = get_panel_surface(panel)\n",
    "plt.imshow(panel_surface)"
   ]
  },
  {
   "cell_type": "code",
   "execution_count": 9,
   "metadata": {},
   "outputs": [],
   "source": [
    "from scipy.signal import find_peaks\n",
    "from typing import Tuple, List\n",
    "\n",
    "# def two_largest_peaks(ir, width=None, rel_prominence=5e-2) -> np.ndarray:\n",
    "#     irmaxval = ir.max()\n",
    "#     peaks, peakprops = find_peaks(ir, width=width,\n",
    "#                                   prominence=rel_prominence*irmaxval)\n",
    "#     if len(peaks) < 2:\n",
    "#         raise Exception(\"Not enough peaks found\")\n",
    "#     peaks = peaks[np.argsort(peakprops['prominences'])[-2:]]\n",
    "#     return peaks\n",
    "\n",
    "# def dp_and_echo_peak(ir, dp0, echo0):\n",
    "#     imv = ir.max()\n",
    "#     peaks, props = find_peaks(ir, prominence=1e-3*imv)\n",
    "#     g = peaks - dp0\n",
    "\n",
    "\n",
    "# def get_dp_ir(ir: np.ndarray, win: Tuple[int, int]) -> np.ndarray:\n",
    "#     dp_peak, echo_peak = np.sort(two_largest_peaks(ir))\n",
    "#     return ir[dp_peak-win[0]:dp_peak+win[1]]\n",
    "\n",
    "# def get_dp_echo_irs(ir: np.ndarray, win: Tuple[int, int]) -> Tuple[np.ndarray, np.ndarray]:\n",
    "#     dp_peak, echo_peak = np.sort(two_largest_peaks(ir))\n",
    "#     dp_ir = ir[dp_peak-win[0]:dp_peak+win[1]]\n",
    "#     echo_ir = ir[echo_peak-win[0]:echo_peak+win[1]]\n",
    "#     return dp_ir, echo_ir\n",
    "\n",
    "def major_peak(signal, rel_prominence=5e-3):\n",
    "    peaks, props = find_peaks(signal, prominence=rel_prominence*signal.max())\n",
    "    majorpeak = peaks[np.argsort(props['prominences'])[-1]]\n",
    "    return majorpeak\n",
    "\n",
    "gaussian_filters = [\n",
    "    np.array((1, 2, 1)) / 4,\n",
    "    np.array((1, 4, 6, 4, 1)) / 16,\n",
    "    np.array((1, 6, 15, 20, 15, 6, 1)) / 64,\n",
    "    np.array((1, 8, 28, 56, 70, 56, 28, 8, 1)) / 256,\n",
    "]\n",
    "\n",
    "def major_peak_by_smoothing(signal, rel_prominence=5e-3, num_filters=1):\n",
    "    assert 0 < num_filters <= len(gaussian_filters), \"num_filters must be in range 1-4\"\n",
    "\n",
    "    peak_ests = [major_peak(signal)]\n",
    "    for i in range(num_filters):\n",
    "        smoothed_signal = np.convolve(signal, gaussian_filters[i], mode='same')\n",
    "        peak_ests.append(major_peak(signal))\n",
    "\n",
    "    return np.median(peak_ests).astype(int)\n",
    "\n",
    "def dp_and_echo_peak(ir, dp0, echo_lower, echo_upper, num_filters=1):\n",
    "    \"\"\"Returns position of direct path and echo path peaks in ir.\n",
    "\n",
    "    Args:\n",
    "        ir (np.ndarray): The IR signal.\n",
    "        dp0 (int): Initial guess of direct path peak position, in samples, strictly an integer.\n",
    "        echo_lower (int): Lower bound of echo peak, in samples, strictly an integer.\n",
    "        echo_upper (int): Upper bound of echo peak, in samples, strictly an integer.\n",
    "    \"\"\"\n",
    "    dpsnip = ir[dp0-8:dp0+20]\n",
    "    dppeak = dp0 - 8 + major_peak_by_smoothing(dpsnip, num_filters)\n",
    "    echosnip = ir[echo_lower-5:echo_upper+5]\n",
    "    echopeak = echo_lower - 5 + major_peak_by_smoothing(echosnip, num_filters)\n",
    "\n",
    "    return dppeak, echopeak\n",
    "\n",
    "def peak_guesses_from_combination(comb, combs_df):\n",
    "    \"\"\"Returns direct path dly, echo dly lower and upper bounds from combination as a tuple.\"\"\"\n",
    "    row = combs_df[combs_df['combination'] == comb]\n",
    "    return row[['dp dly (geo)', 'echo dly (tz)', 'echo dly (bz)']].values[0].astype(int)\n",
    "\n",
    "def get_dp_echo_irs(ir, comb, win: Tuple[int, int], num_filters=2) -> Tuple[np.ndarray, np.ndarray]:\n",
    "    dp0, echo_lower, echo_upper = peak_guesses_from_combination(comb, combs_df)\n",
    "    dp_peak, echo_peak = dp_and_echo_peak(ir, dp0, echo_lower, echo_upper, num_filters)\n",
    "    dp_ir = ir[dp_peak-win[0]:dp_peak+win[1]]\n",
    "    echo_ir = ir[echo_peak-win[0]:echo_peak+win[1]]\n",
    "    return dp_ir, echo_ir"
   ]
  },
  {
   "cell_type": "code",
   "execution_count": 26,
   "metadata": {},
   "outputs": [
    {
     "data": {
      "text/plain": [
       "((1065, 30), (1065, 400))"
      ]
     },
     "execution_count": 26,
     "metadata": {},
     "output_type": "execute_result"
    }
   ],
   "source": [
    "dpirs = []\n",
    "echoirs = []\n",
    "fullirs = []\n",
    "failedcombs = []\n",
    "for c in combs_vwb_df['combination']:\n",
    "    ir = panel.impulse_response_from_combination(c)\n",
    "    dpir, echoir = get_dp_echo_irs(ir, c, (8, 50))\n",
    "    dpir = np.fft.rfft(dpir)\n",
    "    echoir = np.fft.rfft(echoir)\n",
    "    # dpir = dpir / dpir[8]\n",
    "    # echoir = echoir / echoir[8]\n",
    "    dpirs.append(dpir)\n",
    "    echoirs.append(echoir)\n",
    "    fullirs.append(ir)\n",
    "\n",
    "dpirs = np.array(dpirs)\n",
    "echoirs = np.array(echoirs)\n",
    "fullirs = np.array(fullirs)\n",
    "dpirs.shape, fullirs.shape"
   ]
  },
  {
   "cell_type": "code",
   "execution_count": 36,
   "metadata": {},
   "outputs": [
    {
     "ename": "NameError",
     "evalue": "name 'xdatasnip' is not defined",
     "output_type": "error",
     "traceback": [
      "\u001b[1;31m---------------------------------------------------------------------------\u001b[0m",
      "\u001b[1;31mNameError\u001b[0m                                 Traceback (most recent call last)",
      "Input \u001b[1;32mIn [36]\u001b[0m, in \u001b[0;36m<cell line: 1>\u001b[1;34m()\u001b[0m\n\u001b[1;32m----> 1\u001b[0m xdatasnip\u001b[38;5;241m.\u001b[39mshape\n",
      "\u001b[1;31mNameError\u001b[0m: name 'xdatasnip' is not defined"
     ]
    }
   ],
   "source": [
    "xdatasnip.shape"
   ]
  },
  {
   "cell_type": "code",
   "execution_count": 41,
   "metadata": {},
   "outputs": [
    {
     "data": {
      "application/vnd.jupyter.widget-view+json": {
       "model_id": "7087751eb8e84ef48e66d5c14d457a79",
       "version_major": 2,
       "version_minor": 0
      },
      "text/plain": [
       "interactive(children=(IntSlider(value=0, description='index', layout=Layout(width='800px'), max=1064), Output(…"
      ]
     },
     "metadata": {},
     "output_type": "display_data"
    }
   ],
   "source": [
    "%matplotlib inline\n",
    "from ipywidgets import IntSlider, interact, widgets, Layout\n",
    "from IPython.display import display\n",
    "from matplotlib.lines import Line2D\n",
    "\n",
    "sortedidx = np.argsort(le_angles)\n",
    "\n",
    "def what():\n",
    "    # xdatasnip = np.arange(-8, 50, 1)\n",
    "    xdatasnip = np.arange(30)\n",
    "    xdatafull = np.arange(400)\n",
    "    combs = combs_vwb_df['combination'].values\n",
    "\n",
    "    fig, axs = plt.subplots(1, 3, figsize=(12, 4))\n",
    "    lines: List[Line2D] = [axs[i].plot([], [])[0] for i in range(3)]\n",
    "    for ax in axs[:2]:\n",
    "        ax.set_xlim(0, 30)\n",
    "        ax.grid(True)\n",
    "        ax.vlines(0, -1, 1, color='k', linestyle='--')\n",
    "    axs[0].set_ylim(np.abs(dpirs).min(), np.abs(dpirs).max())\n",
    "    axs[1].set_ylim(np.abs(echoirs).min(), np.abs(echoirs).max())\n",
    "    axs[2].set_ylim(fullirs.min(), fullirs.max())\n",
    "    axs[2].set_xlim(0, 400)\n",
    "    fig.tight_layout()\n",
    "    plt.close()\n",
    "\n",
    "    slider = IntSlider(min=0, max=len(combs_vwb_df)-1, step=1, value=0,\n",
    "                       layout=Layout(width='800px'))\n",
    "\n",
    "    @interact(index = slider)\n",
    "    def update(index):\n",
    "        si = sortedidx[index]\n",
    "        c = combs[si]\n",
    "        lines[0].set_data(xdatasnip, np.abs(dpirs[si]))\n",
    "        lines[1].set_data(xdatasnip, np.abs(echoirs[si]))\n",
    "        lines[2].set_data(xdatafull, fullirs[si])\n",
    "        axs[0].set_title(f'Emisson angle = {le_angles[si]:.1f}°')\n",
    "        axs[1].set_title(f'Reception angle = {mr_angles[si]:.1f}°')\n",
    "\n",
    "        display(fig)\n",
    "        print(f'Combination num \\t = {c}')\n",
    "\n",
    "what()"
   ]
  },
  {
   "cell_type": "markdown",
   "metadata": {},
   "source": [
    "## Trying Regression"
   ]
  },
  {
   "cell_type": "code",
   "execution_count": 48,
   "metadata": {},
   "outputs": [],
   "source": [
    "# do a basic general linear model fit using statsmodels\n",
    "import statsmodels.api as sm\n",
    "from statsmodels.multivariate.manova import MANOVA\n",
    "# the independent variables are the emission and receiver angles\n",
    "# the dependent variable is the direct path impulse response (dpir) vector\n",
    "\n",
    "# Assuming `endog` is a DataFrame of your dependent variables\n",
    "# and `exog` is a DataFrame of your independent variables\n",
    "\n",
    "X = np.column_stack((le_angles, mr_angles))\n",
    "# X[X > 160] = np.nan\n",
    "# X = np.sin(np.deg2rad(X)/2)\n",
    "X = sm.add_constant(X)\n",
    "\n",
    "all_results = []\n",
    "coeffs = []\n",
    "for i in range(dpirs.shape[1]):\n",
    "    y = dpirs[:, i]\n",
    "    model = sm.OLS(y, X, missing='drop')\n",
    "    results = model.fit()\n",
    "    all_results.append(results)\n",
    "    coeffs.append(results.params)\n",
    "\n",
    "coeffs = np.array(coeffs)\n"
   ]
  },
  {
   "cell_type": "code",
   "execution_count": 49,
   "metadata": {},
   "outputs": [
    {
     "name": "stderr",
     "output_type": "stream",
     "text": [
      "c:\\Users\\Lenovo\\AppData\\Local\\Programs\\Python\\Python38\\lib\\site-packages\\statsmodels\\stats\\stattools.py:121: ComplexWarning: Casting complex values to real discards the imaginary part\n",
      "  resids = np.atleast_1d(np.asarray(resids, dtype=float))\n"
     ]
    },
    {
     "ename": "TypeError",
     "evalue": "ufunc 'chdtrc' not supported for the input types, and the inputs could not be safely coerced to any supported types according to the casting rule ''safe''",
     "output_type": "error",
     "traceback": [
      "\u001b[1;31m---------------------------------------------------------------------------\u001b[0m",
      "\u001b[1;31mTypeError\u001b[0m                                 Traceback (most recent call last)",
      "Input \u001b[1;32mIn [49]\u001b[0m, in \u001b[0;36m<cell line: 32>\u001b[1;34m()\u001b[0m\n\u001b[0;32m     30\u001b[0m plt\u001b[38;5;241m.\u001b[39mtight_layout()\n\u001b[0;32m     31\u001b[0m plt\u001b[38;5;241m.\u001b[39mshow()\n\u001b[1;32m---> 32\u001b[0m \u001b[38;5;28mprint\u001b[39m(all_results[\u001b[38;5;241m0\u001b[39m]\u001b[38;5;241m.\u001b[39msummary())\n",
      "File \u001b[1;32mc:\\Users\\Lenovo\\AppData\\Local\\Programs\\Python\\Python38\\lib\\site-packages\\statsmodels\\regression\\linear_model.py:2742\u001b[0m, in \u001b[0;36mRegressionResults.summary\u001b[1;34m(self, yname, xname, title, alpha, slim)\u001b[0m\n\u001b[0;32m   2739\u001b[0m slim \u001b[38;5;241m=\u001b[39m bool_like(slim, \u001b[38;5;124m\"\u001b[39m\u001b[38;5;124mslim\u001b[39m\u001b[38;5;124m\"\u001b[39m, optional\u001b[38;5;241m=\u001b[39m\u001b[38;5;28;01mFalse\u001b[39;00m, strict\u001b[38;5;241m=\u001b[39m\u001b[38;5;28;01mTrue\u001b[39;00m)\n\u001b[0;32m   2741\u001b[0m jb, jbpv, skew, kurtosis \u001b[38;5;241m=\u001b[39m jarque_bera(\u001b[38;5;28mself\u001b[39m\u001b[38;5;241m.\u001b[39mwresid)\n\u001b[1;32m-> 2742\u001b[0m omni, omnipv \u001b[38;5;241m=\u001b[39m \u001b[43momni_normtest\u001b[49m\u001b[43m(\u001b[49m\u001b[38;5;28;43mself\u001b[39;49m\u001b[38;5;241;43m.\u001b[39;49m\u001b[43mwresid\u001b[49m\u001b[43m)\u001b[49m\n\u001b[0;32m   2744\u001b[0m eigvals \u001b[38;5;241m=\u001b[39m \u001b[38;5;28mself\u001b[39m\u001b[38;5;241m.\u001b[39meigenvals\n\u001b[0;32m   2745\u001b[0m condno \u001b[38;5;241m=\u001b[39m \u001b[38;5;28mself\u001b[39m\u001b[38;5;241m.\u001b[39mcondition_number\n",
      "File \u001b[1;32mc:\\Users\\Lenovo\\AppData\\Local\\Programs\\Python\\Python38\\lib\\site-packages\\statsmodels\\stats\\stattools.py:78\u001b[0m, in \u001b[0;36momni_normtest\u001b[1;34m(resids, axis)\u001b[0m\n\u001b[0;32m     74\u001b[0m     warn(\u001b[38;5;124m\"\u001b[39m\u001b[38;5;124momni_normtest is not valid with less than 8 observations; \u001b[39m\u001b[38;5;132;01m%i\u001b[39;00m\u001b[38;5;124m \u001b[39m\u001b[38;5;124m\"\u001b[39m\n\u001b[0;32m     75\u001b[0m          \u001b[38;5;124m\"\u001b[39m\u001b[38;5;124msamples were given.\u001b[39m\u001b[38;5;124m\"\u001b[39m \u001b[38;5;241m%\u001b[39m \u001b[38;5;28mint\u001b[39m(n), ValueWarning)\n\u001b[0;32m     76\u001b[0m     \u001b[38;5;28;01mreturn\u001b[39;00m np\u001b[38;5;241m.\u001b[39mnan, np\u001b[38;5;241m.\u001b[39mnan\n\u001b[1;32m---> 78\u001b[0m \u001b[38;5;28;01mreturn\u001b[39;00m \u001b[43mstats\u001b[49m\u001b[38;5;241;43m.\u001b[39;49m\u001b[43mnormaltest\u001b[49m\u001b[43m(\u001b[49m\u001b[43mresids\u001b[49m\u001b[43m,\u001b[49m\u001b[43m \u001b[49m\u001b[43maxis\u001b[49m\u001b[38;5;241;43m=\u001b[39;49m\u001b[43maxis\u001b[49m\u001b[43m)\u001b[49m\n",
      "File \u001b[1;32mc:\\Users\\Lenovo\\AppData\\Local\\Programs\\Python\\Python38\\lib\\site-packages\\scipy\\stats\\_stats_py.py:1869\u001b[0m, in \u001b[0;36mnormaltest\u001b[1;34m(a, axis, nan_policy)\u001b[0m\n\u001b[0;32m   1866\u001b[0m k, _ \u001b[38;5;241m=\u001b[39m kurtosistest(a, axis)\n\u001b[0;32m   1867\u001b[0m k2 \u001b[38;5;241m=\u001b[39m s\u001b[38;5;241m*\u001b[39ms \u001b[38;5;241m+\u001b[39m k\u001b[38;5;241m*\u001b[39mk\n\u001b[1;32m-> 1869\u001b[0m \u001b[38;5;28;01mreturn\u001b[39;00m NormaltestResult(k2, \u001b[43mdistributions\u001b[49m\u001b[38;5;241;43m.\u001b[39;49m\u001b[43mchi2\u001b[49m\u001b[38;5;241;43m.\u001b[39;49m\u001b[43msf\u001b[49m\u001b[43m(\u001b[49m\u001b[43mk2\u001b[49m\u001b[43m,\u001b[49m\u001b[43m \u001b[49m\u001b[38;5;241;43m2\u001b[39;49m\u001b[43m)\u001b[49m)\n",
      "File \u001b[1;32mc:\\Users\\Lenovo\\AppData\\Local\\Programs\\Python\\Python38\\lib\\site-packages\\scipy\\stats\\_distn_infrastructure.py:2261\u001b[0m, in \u001b[0;36mrv_continuous.sf\u001b[1;34m(self, x, *args, **kwds)\u001b[0m\n\u001b[0;32m   2259\u001b[0m \u001b[38;5;28;01mif\u001b[39;00m np\u001b[38;5;241m.\u001b[39many(cond):\n\u001b[0;32m   2260\u001b[0m     goodargs \u001b[38;5;241m=\u001b[39m argsreduce(cond, \u001b[38;5;241m*\u001b[39m((x,)\u001b[38;5;241m+\u001b[39margs))\n\u001b[1;32m-> 2261\u001b[0m     place(output, cond, \u001b[38;5;28;43mself\u001b[39;49m\u001b[38;5;241;43m.\u001b[39;49m\u001b[43m_sf\u001b[49m\u001b[43m(\u001b[49m\u001b[38;5;241;43m*\u001b[39;49m\u001b[43mgoodargs\u001b[49m\u001b[43m)\u001b[49m)\n\u001b[0;32m   2262\u001b[0m \u001b[38;5;28;01mif\u001b[39;00m output\u001b[38;5;241m.\u001b[39mndim \u001b[38;5;241m==\u001b[39m \u001b[38;5;241m0\u001b[39m:\n\u001b[0;32m   2263\u001b[0m     \u001b[38;5;28;01mreturn\u001b[39;00m output[()]\n",
      "File \u001b[1;32mc:\\Users\\Lenovo\\AppData\\Local\\Programs\\Python\\Python38\\lib\\site-packages\\scipy\\stats\\_continuous_distns.py:1394\u001b[0m, in \u001b[0;36mchi2_gen._sf\u001b[1;34m(self, x, df)\u001b[0m\n\u001b[0;32m   1393\u001b[0m \u001b[38;5;28;01mdef\u001b[39;00m \u001b[38;5;21m_sf\u001b[39m(\u001b[38;5;28mself\u001b[39m, x, df):\n\u001b[1;32m-> 1394\u001b[0m     \u001b[38;5;28;01mreturn\u001b[39;00m \u001b[43msc\u001b[49m\u001b[38;5;241;43m.\u001b[39;49m\u001b[43mchdtrc\u001b[49m\u001b[43m(\u001b[49m\u001b[43mdf\u001b[49m\u001b[43m,\u001b[49m\u001b[43m \u001b[49m\u001b[43mx\u001b[49m\u001b[43m)\u001b[49m\n",
      "\u001b[1;31mTypeError\u001b[0m: ufunc 'chdtrc' not supported for the input types, and the inputs could not be safely coerced to any supported types according to the casting rule ''safe''"
     ]
    },
    {
     "name": "stderr",
     "output_type": "stream",
     "text": [
      "Traceback (most recent call last):\n",
      "  File \"c:\\Users\\Lenovo\\AppData\\Local\\Programs\\Python\\Python38\\lib\\site-packages\\matplotlib\\backends\\backend_qt.py\", line 468, in _draw_idle\n",
      "    self.draw()\n",
      "  File \"c:\\Users\\Lenovo\\AppData\\Local\\Programs\\Python\\Python38\\lib\\site-packages\\matplotlib\\backends\\backend_agg.py\", line 400, in draw\n",
      "    self.figure.draw(self.renderer)\n",
      "  File \"c:\\Users\\Lenovo\\AppData\\Local\\Programs\\Python\\Python38\\lib\\site-packages\\matplotlib\\artist.py\", line 95, in draw_wrapper\n",
      "    result = draw(artist, renderer, *args, **kwargs)\n",
      "  File \"c:\\Users\\Lenovo\\AppData\\Local\\Programs\\Python\\Python38\\lib\\site-packages\\matplotlib\\artist.py\", line 72, in draw_wrapper\n",
      "    return draw(artist, renderer)\n",
      "  File \"c:\\Users\\Lenovo\\AppData\\Local\\Programs\\Python\\Python38\\lib\\site-packages\\matplotlib\\figure.py\", line 3140, in draw\n",
      "    mimage._draw_list_compositing_images(\n",
      "  File \"c:\\Users\\Lenovo\\AppData\\Local\\Programs\\Python\\Python38\\lib\\site-packages\\matplotlib\\image.py\", line 131, in _draw_list_compositing_images\n",
      "    a.draw(renderer)\n",
      "  File \"c:\\Users\\Lenovo\\AppData\\Local\\Programs\\Python\\Python38\\lib\\site-packages\\matplotlib\\artist.py\", line 72, in draw_wrapper\n",
      "    return draw(artist, renderer)\n",
      "  File \"c:\\Users\\Lenovo\\AppData\\Local\\Programs\\Python\\Python38\\lib\\site-packages\\mpl_toolkits\\mplot3d\\axes3d.py\", line 493, in draw\n",
      "    super().draw(renderer)\n",
      "  File \"c:\\Users\\Lenovo\\AppData\\Local\\Programs\\Python\\Python38\\lib\\site-packages\\matplotlib\\artist.py\", line 72, in draw_wrapper\n",
      "    return draw(artist, renderer)\n",
      "  File \"c:\\Users\\Lenovo\\AppData\\Local\\Programs\\Python\\Python38\\lib\\site-packages\\matplotlib\\axes\\_base.py\", line 3064, in draw\n",
      "    mimage._draw_list_compositing_images(\n",
      "  File \"c:\\Users\\Lenovo\\AppData\\Local\\Programs\\Python\\Python38\\lib\\site-packages\\matplotlib\\image.py\", line 131, in _draw_list_compositing_images\n",
      "    a.draw(renderer)\n",
      "  File \"c:\\Users\\Lenovo\\AppData\\Local\\Programs\\Python\\Python38\\lib\\site-packages\\matplotlib\\artist.py\", line 39, in draw_wrapper\n",
      "    return draw(artist, renderer, *args, **kwargs)\n",
      "  File \"c:\\Users\\Lenovo\\AppData\\Local\\Programs\\Python\\Python38\\lib\\site-packages\\mpl_toolkits\\mplot3d\\art3d.py\", line 639, in draw\n",
      "    super().draw(renderer)\n",
      "  File \"c:\\Users\\Lenovo\\AppData\\Local\\Programs\\Python\\Python38\\lib\\site-packages\\matplotlib\\artist.py\", line 72, in draw_wrapper\n",
      "    return draw(artist, renderer)\n",
      "  File \"c:\\Users\\Lenovo\\AppData\\Local\\Programs\\Python\\Python38\\lib\\site-packages\\matplotlib\\collections.py\", line 972, in draw\n",
      "    super().draw(renderer)\n",
      "  File \"c:\\Users\\Lenovo\\AppData\\Local\\Programs\\Python\\Python38\\lib\\site-packages\\matplotlib\\artist.py\", line 72, in draw_wrapper\n",
      "    return draw(artist, renderer)\n",
      "  File \"c:\\Users\\Lenovo\\AppData\\Local\\Programs\\Python\\Python38\\lib\\site-packages\\matplotlib\\collections.py\", line 375, in draw\n",
      "    facecolors = self.get_facecolor()\n",
      "  File \"c:\\Users\\Lenovo\\AppData\\Local\\Programs\\Python\\Python38\\lib\\site-packages\\mpl_toolkits\\mplot3d\\art3d.py\", line 775, in get_facecolor\n",
      "    return self._maybe_depth_shade_and_sort_colors(super().get_facecolor())\n",
      "  File \"c:\\Users\\Lenovo\\AppData\\Local\\Programs\\Python\\Python38\\lib\\site-packages\\mpl_toolkits\\mplot3d\\art3d.py\", line 772, in _maybe_depth_shade_and_sort_colors\n",
      "    return mcolors.to_rgba_array(color_array, self._alpha)\n",
      "  File \"c:\\Users\\Lenovo\\AppData\\Local\\Programs\\Python\\Python38\\lib\\site-packages\\matplotlib\\colors.py\", line 487, in to_rgba_array\n",
      "    rgba = np.array([to_rgba(cc) for cc in c])\n",
      "  File \"c:\\Users\\Lenovo\\AppData\\Local\\Programs\\Python\\Python38\\lib\\site-packages\\matplotlib\\colors.py\", line 487, in <listcomp>\n",
      "    rgba = np.array([to_rgba(cc) for cc in c])\n",
      "  File \"c:\\Users\\Lenovo\\AppData\\Local\\Programs\\Python\\Python38\\lib\\site-packages\\matplotlib\\colors.py\", line 299, in to_rgba\n",
      "    rgba = _to_rgba_no_colorcycle(c, alpha)\n",
      "  File \"c:\\Users\\Lenovo\\AppData\\Local\\Programs\\Python\\Python38\\lib\\site-packages\\matplotlib\\colors.py\", line 395, in _to_rgba_no_colorcycle\n",
      "    raise ValueError(\"RGBA values should be within 0-1 range\")\n",
      "ValueError: RGBA values should be within 0-1 range\n",
      "Traceback (most recent call last):\n",
      "  File \"c:\\Users\\Lenovo\\AppData\\Local\\Programs\\Python\\Python38\\lib\\site-packages\\matplotlib\\backends\\backend_qt.py\", line 468, in _draw_idle\n",
      "    self.draw()\n",
      "  File \"c:\\Users\\Lenovo\\AppData\\Local\\Programs\\Python\\Python38\\lib\\site-packages\\matplotlib\\backends\\backend_agg.py\", line 400, in draw\n",
      "    self.figure.draw(self.renderer)\n",
      "  File \"c:\\Users\\Lenovo\\AppData\\Local\\Programs\\Python\\Python38\\lib\\site-packages\\matplotlib\\artist.py\", line 95, in draw_wrapper\n",
      "    result = draw(artist, renderer, *args, **kwargs)\n",
      "  File \"c:\\Users\\Lenovo\\AppData\\Local\\Programs\\Python\\Python38\\lib\\site-packages\\matplotlib\\artist.py\", line 72, in draw_wrapper\n",
      "    return draw(artist, renderer)\n",
      "  File \"c:\\Users\\Lenovo\\AppData\\Local\\Programs\\Python\\Python38\\lib\\site-packages\\matplotlib\\figure.py\", line 3140, in draw\n",
      "    mimage._draw_list_compositing_images(\n",
      "  File \"c:\\Users\\Lenovo\\AppData\\Local\\Programs\\Python\\Python38\\lib\\site-packages\\matplotlib\\image.py\", line 131, in _draw_list_compositing_images\n",
      "    a.draw(renderer)\n",
      "  File \"c:\\Users\\Lenovo\\AppData\\Local\\Programs\\Python\\Python38\\lib\\site-packages\\matplotlib\\artist.py\", line 72, in draw_wrapper\n",
      "    return draw(artist, renderer)\n",
      "  File \"c:\\Users\\Lenovo\\AppData\\Local\\Programs\\Python\\Python38\\lib\\site-packages\\mpl_toolkits\\mplot3d\\axes3d.py\", line 493, in draw\n",
      "    super().draw(renderer)\n",
      "  File \"c:\\Users\\Lenovo\\AppData\\Local\\Programs\\Python\\Python38\\lib\\site-packages\\matplotlib\\artist.py\", line 72, in draw_wrapper\n",
      "    return draw(artist, renderer)\n",
      "  File \"c:\\Users\\Lenovo\\AppData\\Local\\Programs\\Python\\Python38\\lib\\site-packages\\matplotlib\\axes\\_base.py\", line 3064, in draw\n",
      "    mimage._draw_list_compositing_images(\n",
      "  File \"c:\\Users\\Lenovo\\AppData\\Local\\Programs\\Python\\Python38\\lib\\site-packages\\matplotlib\\image.py\", line 131, in _draw_list_compositing_images\n",
      "    a.draw(renderer)\n",
      "  File \"c:\\Users\\Lenovo\\AppData\\Local\\Programs\\Python\\Python38\\lib\\site-packages\\matplotlib\\artist.py\", line 39, in draw_wrapper\n",
      "    return draw(artist, renderer, *args, **kwargs)\n",
      "  File \"c:\\Users\\Lenovo\\AppData\\Local\\Programs\\Python\\Python38\\lib\\site-packages\\mpl_toolkits\\mplot3d\\art3d.py\", line 639, in draw\n",
      "    super().draw(renderer)\n",
      "  File \"c:\\Users\\Lenovo\\AppData\\Local\\Programs\\Python\\Python38\\lib\\site-packages\\matplotlib\\artist.py\", line 72, in draw_wrapper\n",
      "    return draw(artist, renderer)\n",
      "  File \"c:\\Users\\Lenovo\\AppData\\Local\\Programs\\Python\\Python38\\lib\\site-packages\\matplotlib\\collections.py\", line 972, in draw\n",
      "    super().draw(renderer)\n",
      "  File \"c:\\Users\\Lenovo\\AppData\\Local\\Programs\\Python\\Python38\\lib\\site-packages\\matplotlib\\artist.py\", line 72, in draw_wrapper\n",
      "    return draw(artist, renderer)\n",
      "  File \"c:\\Users\\Lenovo\\AppData\\Local\\Programs\\Python\\Python38\\lib\\site-packages\\matplotlib\\collections.py\", line 375, in draw\n",
      "    facecolors = self.get_facecolor()\n",
      "  File \"c:\\Users\\Lenovo\\AppData\\Local\\Programs\\Python\\Python38\\lib\\site-packages\\mpl_toolkits\\mplot3d\\art3d.py\", line 775, in get_facecolor\n",
      "    return self._maybe_depth_shade_and_sort_colors(super().get_facecolor())\n",
      "  File \"c:\\Users\\Lenovo\\AppData\\Local\\Programs\\Python\\Python38\\lib\\site-packages\\mpl_toolkits\\mplot3d\\art3d.py\", line 772, in _maybe_depth_shade_and_sort_colors\n",
      "    return mcolors.to_rgba_array(color_array, self._alpha)\n",
      "  File \"c:\\Users\\Lenovo\\AppData\\Local\\Programs\\Python\\Python38\\lib\\site-packages\\matplotlib\\colors.py\", line 487, in to_rgba_array\n",
      "    rgba = np.array([to_rgba(cc) for cc in c])\n",
      "  File \"c:\\Users\\Lenovo\\AppData\\Local\\Programs\\Python\\Python38\\lib\\site-packages\\matplotlib\\colors.py\", line 487, in <listcomp>\n",
      "    rgba = np.array([to_rgba(cc) for cc in c])\n",
      "  File \"c:\\Users\\Lenovo\\AppData\\Local\\Programs\\Python\\Python38\\lib\\site-packages\\matplotlib\\colors.py\", line 299, in to_rgba\n",
      "    rgba = _to_rgba_no_colorcycle(c, alpha)\n",
      "  File \"c:\\Users\\Lenovo\\AppData\\Local\\Programs\\Python\\Python38\\lib\\site-packages\\matplotlib\\colors.py\", line 395, in _to_rgba_no_colorcycle\n",
      "    raise ValueError(\"RGBA values should be within 0-1 range\")\n",
      "ValueError: RGBA values should be within 0-1 range\n",
      "Traceback (most recent call last):\n",
      "  File \"c:\\Users\\Lenovo\\AppData\\Local\\Programs\\Python\\Python38\\lib\\site-packages\\matplotlib\\backends\\backend_qt.py\", line 468, in _draw_idle\n",
      "    self.draw()\n",
      "  File \"c:\\Users\\Lenovo\\AppData\\Local\\Programs\\Python\\Python38\\lib\\site-packages\\matplotlib\\backends\\backend_agg.py\", line 400, in draw\n",
      "    self.figure.draw(self.renderer)\n",
      "  File \"c:\\Users\\Lenovo\\AppData\\Local\\Programs\\Python\\Python38\\lib\\site-packages\\matplotlib\\artist.py\", line 95, in draw_wrapper\n",
      "    result = draw(artist, renderer, *args, **kwargs)\n",
      "  File \"c:\\Users\\Lenovo\\AppData\\Local\\Programs\\Python\\Python38\\lib\\site-packages\\matplotlib\\artist.py\", line 72, in draw_wrapper\n",
      "    return draw(artist, renderer)\n",
      "  File \"c:\\Users\\Lenovo\\AppData\\Local\\Programs\\Python\\Python38\\lib\\site-packages\\matplotlib\\figure.py\", line 3140, in draw\n",
      "    mimage._draw_list_compositing_images(\n",
      "  File \"c:\\Users\\Lenovo\\AppData\\Local\\Programs\\Python\\Python38\\lib\\site-packages\\matplotlib\\image.py\", line 131, in _draw_list_compositing_images\n",
      "    a.draw(renderer)\n",
      "  File \"c:\\Users\\Lenovo\\AppData\\Local\\Programs\\Python\\Python38\\lib\\site-packages\\matplotlib\\artist.py\", line 72, in draw_wrapper\n",
      "    return draw(artist, renderer)\n",
      "  File \"c:\\Users\\Lenovo\\AppData\\Local\\Programs\\Python\\Python38\\lib\\site-packages\\mpl_toolkits\\mplot3d\\axes3d.py\", line 493, in draw\n",
      "    super().draw(renderer)\n",
      "  File \"c:\\Users\\Lenovo\\AppData\\Local\\Programs\\Python\\Python38\\lib\\site-packages\\matplotlib\\artist.py\", line 72, in draw_wrapper\n",
      "    return draw(artist, renderer)\n",
      "  File \"c:\\Users\\Lenovo\\AppData\\Local\\Programs\\Python\\Python38\\lib\\site-packages\\matplotlib\\axes\\_base.py\", line 3064, in draw\n",
      "    mimage._draw_list_compositing_images(\n",
      "  File \"c:\\Users\\Lenovo\\AppData\\Local\\Programs\\Python\\Python38\\lib\\site-packages\\matplotlib\\image.py\", line 131, in _draw_list_compositing_images\n",
      "    a.draw(renderer)\n",
      "  File \"c:\\Users\\Lenovo\\AppData\\Local\\Programs\\Python\\Python38\\lib\\site-packages\\matplotlib\\artist.py\", line 39, in draw_wrapper\n",
      "    return draw(artist, renderer, *args, **kwargs)\n",
      "  File \"c:\\Users\\Lenovo\\AppData\\Local\\Programs\\Python\\Python38\\lib\\site-packages\\mpl_toolkits\\mplot3d\\art3d.py\", line 639, in draw\n",
      "    super().draw(renderer)\n",
      "  File \"c:\\Users\\Lenovo\\AppData\\Local\\Programs\\Python\\Python38\\lib\\site-packages\\matplotlib\\artist.py\", line 72, in draw_wrapper\n",
      "    return draw(artist, renderer)\n",
      "  File \"c:\\Users\\Lenovo\\AppData\\Local\\Programs\\Python\\Python38\\lib\\site-packages\\matplotlib\\collections.py\", line 972, in draw\n",
      "    super().draw(renderer)\n",
      "  File \"c:\\Users\\Lenovo\\AppData\\Local\\Programs\\Python\\Python38\\lib\\site-packages\\matplotlib\\artist.py\", line 72, in draw_wrapper\n",
      "    return draw(artist, renderer)\n",
      "  File \"c:\\Users\\Lenovo\\AppData\\Local\\Programs\\Python\\Python38\\lib\\site-packages\\matplotlib\\collections.py\", line 375, in draw\n",
      "    facecolors = self.get_facecolor()\n",
      "  File \"c:\\Users\\Lenovo\\AppData\\Local\\Programs\\Python\\Python38\\lib\\site-packages\\mpl_toolkits\\mplot3d\\art3d.py\", line 775, in get_facecolor\n",
      "    return self._maybe_depth_shade_and_sort_colors(super().get_facecolor())\n",
      "  File \"c:\\Users\\Lenovo\\AppData\\Local\\Programs\\Python\\Python38\\lib\\site-packages\\mpl_toolkits\\mplot3d\\art3d.py\", line 772, in _maybe_depth_shade_and_sort_colors\n",
      "    return mcolors.to_rgba_array(color_array, self._alpha)\n",
      "  File \"c:\\Users\\Lenovo\\AppData\\Local\\Programs\\Python\\Python38\\lib\\site-packages\\matplotlib\\colors.py\", line 487, in to_rgba_array\n",
      "    rgba = np.array([to_rgba(cc) for cc in c])\n",
      "  File \"c:\\Users\\Lenovo\\AppData\\Local\\Programs\\Python\\Python38\\lib\\site-packages\\matplotlib\\colors.py\", line 487, in <listcomp>\n",
      "    rgba = np.array([to_rgba(cc) for cc in c])\n",
      "  File \"c:\\Users\\Lenovo\\AppData\\Local\\Programs\\Python\\Python38\\lib\\site-packages\\matplotlib\\colors.py\", line 299, in to_rgba\n",
      "    rgba = _to_rgba_no_colorcycle(c, alpha)\n",
      "  File \"c:\\Users\\Lenovo\\AppData\\Local\\Programs\\Python\\Python38\\lib\\site-packages\\matplotlib\\colors.py\", line 395, in _to_rgba_no_colorcycle\n",
      "    raise ValueError(\"RGBA values should be within 0-1 range\")\n",
      "ValueError: RGBA values should be within 0-1 range\n"
     ]
    }
   ],
   "source": [
    "%matplotlib qt\n",
    "import matplotlib.pyplot as plt\n",
    "from mpl_toolkits.mplot3d import Axes3D\n",
    "samp = 20\n",
    "# Create a 3D plot\n",
    "fig = plt.figure()\n",
    "ax = fig.add_subplot(111, projection='3d')\n",
    "\n",
    "# Plot the data points\n",
    "ax.scatter(X[:, 1], X[:, 2], dpirs[:, samp], c='b', marker='o')\n",
    "\n",
    "# Create a meshgrid for the plane\n",
    "x = np.linspace(min(X[:, 1]), max(X[:, 1]), 10)\n",
    "y = np.linspace(min(X[:, 2]), max(X[:, 2]), 10)\n",
    "X_plane, Y_plane = np.meshgrid(x, y)\n",
    "\n",
    "# Calculate the Z values for the plane using the coefficients\n",
    "Z_plane = coeffs[samp, 0] + coeffs[samp, 1] * X_plane + coeffs[samp, 2] * Y_plane\n",
    "\n",
    "# Plot the plane\n",
    "ax.plot_surface(X_plane, Y_plane, Z_plane, alpha=0.5)\n",
    "\n",
    "# Set labels and title\n",
    "ax.set_xlabel('emission angle')\n",
    "ax.set_ylabel('receiver angle')\n",
    "ax.set_zlabel(f'dpirs[{samp}]')\n",
    "ax.set_title(f'3D Plot of dpirs[{samp}] against X with Plane')\n",
    "\n",
    "# Show the plot\n",
    "plt.tight_layout()\n",
    "plt.show()\n",
    "print(all_results[0].summary())"
   ]
  },
  {
   "cell_type": "markdown",
   "metadata": {},
   "source": [
    "## One angle pair"
   ]
  },
  {
   "cell_type": "code",
   "execution_count": 16,
   "metadata": {},
   "outputs": [
    {
     "data": {
      "text/html": [
       "<div>\n",
       "<style scoped>\n",
       "    .dataframe tbody tr th:only-of-type {\n",
       "        vertical-align: middle;\n",
       "    }\n",
       "\n",
       "    .dataframe tbody tr th {\n",
       "        vertical-align: top;\n",
       "    }\n",
       "\n",
       "    .dataframe thead th {\n",
       "        text-align: right;\n",
       "    }\n",
       "</style>\n",
       "<table border=\"1\" class=\"dataframe\">\n",
       "  <thead>\n",
       "    <tr style=\"text-align: right;\">\n",
       "      <th></th>\n",
       "      <th>combination</th>\n",
       "      <th>mic cell</th>\n",
       "      <th>spkr cell</th>\n",
       "      <th>angle</th>\n",
       "      <th>dp dly (geo)</th>\n",
       "      <th>echo dly (bz)</th>\n",
       "      <th>echo dly (tz)</th>\n",
       "      <th>echo dly (gpy)</th>\n",
       "      <th>spkr emit angle</th>\n",
       "      <th>mic rec angle</th>\n",
       "      <th>surf inc angle</th>\n",
       "      <th>dp echo diff</th>\n",
       "    </tr>\n",
       "  </thead>\n",
       "  <tbody>\n",
       "    <tr>\n",
       "      <th>0</th>\n",
       "      <td>1</td>\n",
       "      <td>[0, 0, 0]</td>\n",
       "      <td>[0, 0, 1]</td>\n",
       "      <td>21.54</td>\n",
       "      <td>20.991254</td>\n",
       "      <td>78.429796</td>\n",
       "      <td>57.170934</td>\n",
       "      <td>57.170934</td>\n",
       "      <td>68.0</td>\n",
       "      <td>68.0</td>\n",
       "      <td>22.0</td>\n",
       "      <td>46.809111</td>\n",
       "    </tr>\n",
       "    <tr>\n",
       "      <th>1</th>\n",
       "      <td>2</td>\n",
       "      <td>[0, 0, 0]</td>\n",
       "      <td>[0, 0, 2]</td>\n",
       "      <td>38.29</td>\n",
       "      <td>41.982507</td>\n",
       "      <td>86.447273</td>\n",
       "      <td>67.752593</td>\n",
       "      <td>67.752593</td>\n",
       "      <td>52.0</td>\n",
       "      <td>52.0</td>\n",
       "      <td>38.0</td>\n",
       "      <td>35.117426</td>\n",
       "    </tr>\n",
       "    <tr>\n",
       "      <th>2</th>\n",
       "      <td>3</td>\n",
       "      <td>[0, 0, 0]</td>\n",
       "      <td>[0, 0, 3]</td>\n",
       "      <td>49.82</td>\n",
       "      <td>62.973761</td>\n",
       "      <td>98.368159</td>\n",
       "      <td>82.423161</td>\n",
       "      <td>82.423161</td>\n",
       "      <td>40.0</td>\n",
       "      <td>40.0</td>\n",
       "      <td>50.0</td>\n",
       "      <td>27.421899</td>\n",
       "    </tr>\n",
       "  </tbody>\n",
       "</table>\n",
       "</div>"
      ],
      "text/plain": [
       "   combination   mic cell  spkr cell  angle  dp dly (geo)  echo dly (bz)  \\\n",
       "0            1  [0, 0, 0]  [0, 0, 1]  21.54     20.991254      78.429796   \n",
       "1            2  [0, 0, 0]  [0, 0, 2]  38.29     41.982507      86.447273   \n",
       "2            3  [0, 0, 0]  [0, 0, 3]  49.82     62.973761      98.368159   \n",
       "\n",
       "   echo dly (tz)  echo dly (gpy)  spkr emit angle  mic rec angle  \\\n",
       "0      57.170934       57.170934             68.0           68.0   \n",
       "1      67.752593       67.752593             52.0           52.0   \n",
       "2      82.423161       82.423161             40.0           40.0   \n",
       "\n",
       "   surf inc angle  dp echo diff  \n",
       "0            22.0     46.809111  \n",
       "1            38.0     35.117426  \n",
       "2            50.0     27.421899  "
      ]
     },
     "execution_count": 16,
     "metadata": {},
     "output_type": "execute_result"
    }
   ],
   "source": [
    "combs_df.head(3)"
   ]
  },
  {
   "cell_type": "code",
   "execution_count": 42,
   "metadata": {},
   "outputs": [
    {
     "name": "stdout",
     "output_type": "stream",
     "text": [
      "[54, 48, 40, 40, 32, 32, 30, 24, 20, 18, 16, 16, 16, 16, 16, 16, 16, 16, 16, 8, 8, 8, 8, 8, 8, 8, 8, 8, 8, 8, 8, 8, 8, 8, 8, 8, 8, 8, 8, 8, 8, 8, 8, 8, 8, 8, 8, 8, 8, 8, 8, 8, 8, 8, 8, 8, 8, 8, 8, 8, 8, 8, 8, 8, 8, 8, 8, 8, 8, 8, 8, 8, 8, 8, 8, 8, 8, 8, 8, 8, 4, 4, 4, 4, 4, 4, 4, 4, 4, 4, 4, 4, 4, 4, 4, 4, 4, 4, 4, 4, 4, 4, 4, 2, 1]\n"
     ]
    }
   ],
   "source": [
    "groups = combs_vwb_df.groupby([combs_vwb_df['spkr emit angle'], combs_vwb_df['mic rec angle']])\n",
    "groups = sorted(groups, key=lambda x: len(x[1]), reverse=True)\n",
    "# print group lengths\n",
    "print([len(g[1]) for g in groups])"
   ]
  },
  {
   "cell_type": "code",
   "execution_count": 45,
   "metadata": {},
   "outputs": [
    {
     "ename": "IndexError",
     "evalue": "index 2067 is out of bounds for axis 0 with size 1065",
     "output_type": "error",
     "traceback": [
      "\u001b[1;31m---------------------------------------------------------------------------\u001b[0m",
      "\u001b[1;31mIndexError\u001b[0m                                Traceback (most recent call last)",
      "Input \u001b[1;32mIn [45]\u001b[0m, in \u001b[0;36m<cell line: 7>\u001b[1;34m()\u001b[0m\n\u001b[0;32m      7\u001b[0m \u001b[38;5;28;01mfor\u001b[39;00m c \u001b[38;5;129;01min\u001b[39;00m selected_group[\u001b[38;5;241m1\u001b[39m][\u001b[38;5;124m'\u001b[39m\u001b[38;5;124mcombination\u001b[39m\u001b[38;5;124m'\u001b[39m]:\n\u001b[0;32m      8\u001b[0m     \u001b[38;5;66;03m# ir = panel.impulse_response_from_combination(c)\u001b[39;00m\n\u001b[0;32m      9\u001b[0m     \u001b[38;5;66;03m# k = index of c in combs_vwb_df\u001b[39;00m\n\u001b[0;32m     10\u001b[0m     k \u001b[38;5;241m=\u001b[39m combs_vwb_df[combs_vwb_df[\u001b[38;5;124m'\u001b[39m\u001b[38;5;124mcombination\u001b[39m\u001b[38;5;124m'\u001b[39m] \u001b[38;5;241m==\u001b[39m c]\u001b[38;5;241m.\u001b[39mindex[\u001b[38;5;241m0\u001b[39m]\n\u001b[1;32m---> 11\u001b[0m     dpir \u001b[38;5;241m=\u001b[39m dpirs[k]\n\u001b[0;32m     12\u001b[0m     \u001b[38;5;66;03m# dpir, echoir = get_dp_echo_irs(ir, c, (8, 50))\u001b[39;00m\n\u001b[0;32m     13\u001b[0m     \u001b[38;5;66;03m# dpir = dpir / dpir[8]\u001b[39;00m\n\u001b[0;32m     14\u001b[0m     \u001b[38;5;66;03m# echoir = echoir / echoir[8]\u001b[39;00m\n\u001b[0;32m     15\u001b[0m     \u001b[38;5;66;03m# plt.stem(dpir, linefmt=':', markerfmt='o')\u001b[39;00m\n\u001b[0;32m     16\u001b[0m     \u001b[38;5;66;03m# plot dpir with marker colour blue, line colour green\u001b[39;00m\n\u001b[0;32m     17\u001b[0m     \u001b[38;5;66;03m# plt.plot(dpir, color='gray', linestyle=':', alpha=0.16, marker=None)\u001b[39;00m\n\u001b[0;32m     18\u001b[0m     plt\u001b[38;5;241m.\u001b[39mscatter(np\u001b[38;5;241m.\u001b[39marange(\u001b[38;5;28mlen\u001b[39m(dpir)), np\u001b[38;5;241m.\u001b[39mabs(dpir), color\u001b[38;5;241m=\u001b[39m\u001b[38;5;124m'\u001b[39m\u001b[38;5;124mg\u001b[39m\u001b[38;5;124m'\u001b[39m, alpha\u001b[38;5;241m=\u001b[39m\u001b[38;5;241m0.25\u001b[39m, marker\u001b[38;5;241m=\u001b[39m\u001b[38;5;124m'\u001b[39m\u001b[38;5;124m.\u001b[39m\u001b[38;5;124m'\u001b[39m)\n",
      "\u001b[1;31mIndexError\u001b[0m: index 2067 is out of bounds for axis 0 with size 1065"
     ]
    }
   ],
   "source": [
    "%matplotlib qt\n",
    "\n",
    "grp_idx = 0  # Replace 0 with the desired index\n",
    "selected_group = groups[grp_idx]\n",
    "sel_spkr_angle, sel_mic_angle = selected_group[0]\n",
    "\n",
    "for c in selected_group[1]['combination']:\n",
    "    # ir = panel.impulse_response_from_combination(c)\n",
    "    # k = index of c in combs_vwb_df\n",
    "    k = combs_vwb_df[combs_vwb_df['combination'] == c].index[0]\n",
    "    dpir = dpirs[k]\n",
    "    # dpir, echoir = get_dp_echo_irs(ir, c, (8, 50))\n",
    "    # dpir = dpir / dpir[8]\n",
    "    # echoir = echoir / echoir[8]\n",
    "    # plt.stem(dpir, linefmt=':', markerfmt='o')\n",
    "    # plot dpir with marker colour blue, line colour green\n",
    "    # plt.plot(dpir, color='gray', linestyle=':', alpha=0.16, marker=None)\n",
    "    plt.scatter(np.arange(len(dpir)), np.abs(dpir), color='g', alpha=0.25, marker='.')\n",
    "\n",
    "plt.title(f'spkr angle = {sel_spkr_angle}, mic angle = {sel_mic_angle}: {len(selected_group[1])} combinations')\n",
    "plt.show()"
   ]
  },
  {
   "cell_type": "code",
   "execution_count": null,
   "metadata": {},
   "outputs": [],
   "source": [
    "# Print the sorted groups\n",
    "for group_name, group_data in groups:\n",
    "    print(f\"Group Name: {group_name}\")\n",
    "    print(f\"Group Size: {len(group_data)}\")\n",
    "    print()\n"
   ]
  }
 ],
 "metadata": {
  "kernelspec": {
   "display_name": "Python 3",
   "language": "python",
   "name": "python3"
  },
  "language_info": {
   "codemirror_mode": {
    "name": "ipython",
    "version": 3
   },
   "file_extension": ".py",
   "mimetype": "text/x-python",
   "name": "python",
   "nbconvert_exporter": "python",
   "pygments_lexer": "ipython3",
   "version": "3.8.10"
  }
 },
 "nbformat": 4,
 "nbformat_minor": 2
}
