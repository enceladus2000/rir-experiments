{
 "cells": [
  {
   "cell_type": "markdown",
   "metadata": {},
   "source": [
    "* implement prony-iir that calculates iir coefficients\n",
    "* test with synthetic data\n",
    "* implement denoising step - cadzow or something\n",
    "* test with synthetic data + awgn"
   ]
  },
  {
   "cell_type": "code",
   "execution_count": 1,
   "metadata": {},
   "outputs": [],
   "source": [
    "import numpy as np\n",
    "import matplotlib.pyplot as plt\n",
    "import sys, os, copy\n",
    "from numpy.fft import fft, rfft, ifft, irfft, fftfreq, rfftfreq\n",
    "import scipy as sp\n",
    "import scipy.signal as signal\n",
    "from tqdm import tqdm"
   ]
  },
  {
   "cell_type": "code",
   "execution_count": 2,
   "metadata": {},
   "outputs": [],
   "source": [
    "%load_ext autoreload\n",
    "%autoreload 2"
   ]
  },
  {
   "cell_type": "code",
   "execution_count": 3,
   "metadata": {},
   "outputs": [],
   "source": [
    "def h_model(N, a, d, T, phi):\n",
    "    \"\"\"Signal model: h[n] = \\sum_{i=1}^I a_i 2^{-n/d_i} \\cos(2\\pi n / T_i + \\phi_i)\"\"\"\n",
    "    I = len(a)\n",
    "    h = np.zeros(N)\n",
    "    n = np.arange(N)\n",
    "    for i in range(I):\n",
    "        h += a[i] * np.power(2, -n / d[i]) * np.cos(2*np.pi*n / T[i] + phi[i])\n",
    "    return h\n",
    "\n",
    "def pretty_print_hrparams(a, d, T, phi):\n",
    "    # print in scientific notation\n",
    "    arr2scistr = lambda x: np.array2string(x, formatter={'float_kind':lambda x: f'{x:.2e}'}, separator=', ')\n",
    "    arr2str = lambda x, p: np.array2string(x, precision=p, separator=', ')\n",
    "    print(\"a: \", arr2scistr(a))\n",
    "    print(\"d: \", arr2str(d, 1))\n",
    "    print(\"T: \", arr2str(T, 1))\n",
    "    print(\"ϕ: \", np.array2string(np.rad2deg(phi), separator=', ', formatter={'rad2deg':lambda x: f'{x:.1f}°'}))"
   ]
  },
  {
   "cell_type": "code",
   "execution_count": 4,
   "metadata": {},
   "outputs": [],
   "source": [
    "def conj_pairs_idxs(arr: np.ndarray, tol=1e-5, already_sorted=False):\n",
    "    \"\"\"Function to find the indices conjugate pairs present in an array of complex numbers. Also returns indices of purely real values, and values not part of any conjugate pair. The 2nd item in the tuple returned is are the indices of positive conjugates, i.e. those numbers part of a conjugate pair whose imaginary part is positive. The 3rd item is the indices of negative conjugates.\n",
    "\n",
    "    Args:\n",
    "        arr (np.ndarray): Array in which to find conjugate pairs.\n",
    "        tol (float, optional): Absolute tolerance for checking both if value is purely real and for checking equality with conjugate. Defaults to 1e-5.\n",
    "        already_sorted (bool, optional): Set true only if arr is sorted in ascending order by complex magnitude. Defaults to False.\n",
    "\n",
    "    Returns:\n",
    "        List, List, List, List: Lists containing indices of purely real, positive conjugates, negative conjugates, and no conjugates respectively.\n",
    "    \"\"\"\n",
    "    if already_sorted:\n",
    "        arrsorted = arr\n",
    "        si = np.arange(len(arr))\n",
    "    else:\n",
    "        si = np.argsort(np.abs(arr))\n",
    "        arrsorted = arr[si]\n",
    "\n",
    "    purely_real = []\n",
    "    pos_conj = []\n",
    "    neg_conj = []\n",
    "    no_conj = []\n",
    "\n",
    "    i = 0\n",
    "    while i < len(arrsorted):\n",
    "        if np.isclose(arrsorted[i].imag, 0, atol=tol):\n",
    "            purely_real.append(si[i])\n",
    "            i += 1\n",
    "        elif i+1 < len(arrsorted) and np.isclose(arrsorted[i], arrsorted[i+1].conj(), atol=tol):\n",
    "            pos_conj.append(si[i] if arrsorted[i].imag > 0 else si[i+1])\n",
    "            neg_conj.append(si[i] if arrsorted[i].imag < 0 else si[i+1])\n",
    "            i += 2\n",
    "        else:\n",
    "            no_conj.append(si[i])\n",
    "            i += 1\n",
    "\n",
    "    return purely_real, pos_conj, neg_conj, no_conj\n",
    "\n"
   ]
  },
  {
   "cell_type": "code",
   "execution_count": 10,
   "metadata": {},
   "outputs": [],
   "source": [
    "def hr2tf(a, d, T, phi):\n",
    "    \"\"\"Compute transfer function coefficients (numerator a and denominator b) from amps, delays, periods and phases. Returns (b, a). \"\"\"\n",
    "    poles = 2**(-1/d) * np.exp(2j*np.pi/T)\n",
    "    poles = np.concatenate((poles, np.conj(poles)))     # hr format is real, so in poles have to be conjugate pairs\n",
    "    residues = a * np.exp(1j*phi) / 2\n",
    "    residues = np.concatenate((residues, np.conj(residues)))    # residues have to be half and conjugate pairs\n",
    "    b, a = signal.invresz(residues, poles, [])\n",
    "    return b, a\n",
    "\n",
    "def tf2ir(b, a, N):\n",
    "    import warnings\n",
    "    warnings.filterwarnings(\"ignore\", category=np.ComplexWarning)\n",
    "    _, ir = signal.dimpulse((b, a, 1), n=N+1)\n",
    "    ir = ir[0].flatten()[1:]\n",
    "    warnings.resetwarnings()\n",
    "    return ir\n",
    "\n",
    "def tf2hr(b, a, tol=1e-5):\n",
    "    r, p, k = signal.residuez(b, a)\n",
    "    if len(k) > 0 and np.any(np.abs(k) > tol):\n",
    "        raise ValueError(\"Transfer function has FIR component. Cannot convert to HR format.\")\n",
    "    p_real, p_pos, _, other = conj_pairs_idxs(p, tol=tol)\n",
    "    if len(other) > 0 and np.any(np.abs(r[other]) > tol):\n",
    "        raise ValueError(\"Complex pole without conjugate pair found. Cannot convert to HR format.\")\n",
    "    if len(p_real) > 0:\n",
    "        raise ValueError(\"Real poles found. Cannot convert to HR format.\")\n",
    "    d = -1 / np.log2(np.abs(p[p_pos]))\n",
    "    T = 2*np.pi / np.angle(p[p_pos])\n",
    "    phi = np.angle(r[p_pos])\n",
    "    a = np.abs(r[p_pos]) * 2\n",
    "    return a, d, T, phi\n",
    "\n",
    "    "
   ]
  },
  {
   "cell_type": "code",
   "execution_count": 11,
   "metadata": {},
   "outputs": [
    {
     "name": "stdout",
     "output_type": "stream",
     "text": [
      "a:  [1.00e+00, 6.00e-01]\n",
      "d:  [ 8. , 11.1]\n",
      "T:  [4.3, 8.2]\n",
      "ϕ:  [-90.        ,  -5.72957795]\n"
     ]
    },
    {
     "data": {
      "image/png": "[encoded data removed]",
      "text/plain": [
       "<Figure size 432x288 with 1 Axes>"
      ]
     },
     "metadata": {
      "needs_background": "light"
     },
     "output_type": "display_data"
    }
   ],
   "source": [
    "# a, d, T, phi\n",
    "params = [1., 8, 4.3, -np.pi/2]\n",
    "params += [.6, 11.1, 8.2, -.1]\n",
    "# params += [.4, 12, 5, .2]\n",
    "params = np.array(params).reshape(-1, 4).T\n",
    "pretty_print_hrparams(*params)\n",
    "N = 60\n",
    "h_test = h_model(N, *params)\n",
    "plt.plot(h_test)\n",
    "plt.show()"
   ]
  },
  {
   "cell_type": "code",
   "execution_count": 13,
   "metadata": {},
   "outputs": [
    {
     "data": {
      "image/png": "[encoded data removed]",
      "text/plain": [
       "<Figure size 432x288 with 1 Axes>"
      ]
     },
     "metadata": {
      "needs_background": "light"
     },
     "output_type": "display_data"
    }
   ],
   "source": [
    "b, a = hr2tf(*params)\n",
    "%matplotlib inline\n",
    "ir = tf2ir(b, a, N)\n",
    "plt.plot(ir, label='from tf')\n",
    "plt.plot(h_test, label='h_test')\n",
    "plt.legend()\n",
    "plt.show()"
   ]
  }
 ],
 "metadata": {
  "kernelspec": {
   "display_name": "Python 3",
   "language": "python",
   "name": "python3"
  },
  "language_info": {
   "codemirror_mode": {
    "name": "ipython",
    "version": 3
   },
   "file_extension": ".py",
   "mimetype": "text/x-python",
   "name": "python",
   "nbconvert_exporter": "python",
   "pygments_lexer": "ipython3",
   "version": "3.8.10"
  }
 },
 "nbformat": 4,
 "nbformat_minor": 2
}
