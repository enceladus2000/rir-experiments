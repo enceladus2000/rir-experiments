{
 "cells": [
  {
   "cell_type": "markdown",
   "metadata": {},
   "source": [
    "# Create Panel and Combinations Databases"
   ]
  },
  {
   "cell_type": "code",
   "execution_count": 1,
   "metadata": {},
   "outputs": [],
   "source": [
    "import numpy as np\n",
    "import matplotlib.pyplot as plt\n",
    "import pickle\n",
    "import plotly.graph_objects as go\n",
    "from tqdm import tqdm\n",
    "import pandas as pd\n",
    "from copy import copy, deepcopy"
   ]
  },
  {
   "cell_type": "code",
   "execution_count": 2,
   "metadata": {},
   "outputs": [],
   "source": [
    "import gir\n",
    "import gir.config as gc\n",
    "from gir.dataset.panel_data import PanelData, REFERENCE\n",
    "from gir.dataset.grid import Grid\n",
    "from gir.ml.preprocess import get_panel_names, plane_id_list\n",
    "from gir.config import DATA_PATH as GIR_DATA_PATH\n",
    "\n",
    "fs = 96e3"
   ]
  },
  {
   "cell_type": "code",
   "execution_count": 3,
   "metadata": {},
   "outputs": [
    {
     "name": "stdout",
     "output_type": "stream",
     "text": [
      "['mean_flat_cg', 'mean_flat_rfl_1', 'mean_flat_rfl_2', 'mean_flat_vj_fu', 'mean_flat_vj_ph', 'panel_0001_0', 'panel_0001_1', 'panel_0002_1', 'panel_0003_0', 'panel_0003_1', 'panel_0004_0', 'panel_0004_1', 'panel_0005_0', 'panel_0005_1', 'panel_0006_0', 'panel_0006_1', 'panel_0007_0', 'panel_0007_1', 'panel_0008_0', 'panel_0008_1', 'panel_0009_0', 'panel_0009_1', 'panel_0010_0', 'panel_0010_1', 'panel_0011_0', 'panel_0011_1', 'panel_0012_0', 'panel_0012_1', 'panel_0013_0', 'panel_0013_1', 'panel_0014_1', 'panel_0015_0', 'panel_0015_1', 'panel_0016_0', 'panel_0016_1', 'panel_0016_r180_0', 'panel_0017_0', 'panel_0017_1', 'panel_0018_0', 'panel_0018_1', 'panel_0019_0', 'panel_0019_1', 'panel_0020_0', 'panel_0020_1', 'panel_0021_0', 'panel_0021_1', 'panel_0022_0', 'panel_0022_1', 'panel_0023_0', 'panel_0023_1', 'panel_0024_0', 'panel_0024_1', 'panel_0025_0', 'panel_0025_1', 'panel_0026_0', 'panel_0026_1', 'panel_0027_0', 'panel_0027_1', 'panel_0028_0', 'panel_0028_1', 'panel_0029_0', 'panel_0029_1', 'panel_0030_0', 'panel_0030_1', 'panel_0031_0', 'panel_0031_1', 'panel_0032_0', 'panel_0032_1', 'panel_0033_0', 'panel_0033_1', 'panel_0034_0', 'panel_0034_1', 'panel_0035_0', 'panel_0035_1', 'panel_0036_0', 'panel_0036_1', 'panel_0038_0', 'panel_0038_1', 'panel_0039_0', 'panel_0039_1', 'panel_0040_0', 'panel_0040_1', 'panel_0040_r180_0', 'panel_0040_r180_1', 'panel_0041_0', 'panel_0041_1', 'panel_0041_r180_0', 'panel_0041_r180_1', 'panel_0042_0', 'panel_0042_1', 'panel_0043_0', 'panel_0043_1', 'panel_0044_0', 'panel_0044_1', 'panel_0045_0', 'panel_0045_1', 'panel_0046_0', 'panel_0046_1', 'panel_0047_0', 'panel_0047_1', 'panel_0048_0', 'panel_0048_1', 'panel_0049_0', 'panel_0049_1', 'panel_0050_0', 'panel_0050_1', 'panel_0051_0', 'panel_0051_1', 'panel_0052_0', 'panel_0052_1', 'panel_0053_0', 'panel_0053_1', 'panel_0054_0', 'panel_0054_1', 'panel_0055_0', 'panel_0055_1', 'panel_0056_0', 'panel_0056_1', 'panel_0057_0', 'panel_0057_1', 'panel_0058_0', 'panel_0058_1', 'panel_0059_0', 'panel_0059_1', 'panel_0060_0', 'panel_0060_1', 'panel_0061_0', 'panel_0061_1', 'panel_0062_0', 'panel_0062_1', 'panel_0063_0', 'panel_0063_1', 'panel_0064_0', 'panel_0064_1', 'panel_0065_0', 'panel_0065_1', 'panel_0066_0', 'panel_0066_1', 'panel_0067_0', 'panel_0067_1', 'panel_0068_0', 'panel_0068_1', 'panel_0069_0', 'panel_0069_1', 'panel_0070_0', 'panel_0070_1', 'panel_0071_0', 'panel_0071_1', 'panel_0072_0', 'panel_0072_1', 'panel_0073_0', 'panel_0074_0', 'panel_0075_0', 'panel_0076_0', 'panel_0077_0', 'panel_0078_0', 'panel_0079_0', 'panel_0080_0', 'panel_0081_0', 'panel_0082_0', 'panel_0083_0', 'panel_0083_1', 'panel_0084_0', 'panel_0084_1', 'panel_0085_0', 'panel_0085_1', 'panel_0086_0', 'panel_0086_1', 'panel_0087_0', 'panel_0087_1', 'panel_0088_0', 'panel_0088_1', 'panel_0089_0', 'panel_0089_1', 'panel_0090_0', 'panel_0090_1', 'panel_0091_0', 'panel_0091_1', 'panel_0092_0', 'panel_0092_1', 'panel_0093_0', 'panel_0093_1', 'panel_0094_0', 'panel_0094_1', 'panel_0095_0', 'panel_0095_1', 'panel_0096_0', 'panel_0096_1', 'panel_0097_0', 'panel_0097_1', 'panel_0098_0', 'panel_0098_1', 'panel_0099_0', 'panel_0099_1', 'panel_0100_0', 'panel_0100_1', 'panel_0101_0', 'panel_0101_1', 'panel_0102_0', 'panel_0102_1', 'panel_0103_0', 'panel_0103_1', 'panel_0104_0', 'panel_0104_1', 'panel_0105_0', 'panel_0105_1', 'panel_0106_0', 'panel_0106_1', 'panel_0107_0', 'panel_0107_1', 'panel_0108_0', 'panel_0108_1', 'panel_0109_0', 'panel_0109_1', 'panel_0110_0', 'panel_0110_1', 'panel_0111_0', 'panel_0111_1', 'panel_0112_0', 'panel_0112_1', 'panel_0113_0', 'panel_0113_1', 'panel_0114_0', 'panel_0114_1', 'panel_0115_0', 'panel_0115_1', 'panel_0116_0', 'panel_0116_1', 'panel_0117_0', 'panel_0117_1', 'panel_0118_0', 'panel_0118_1', 'panel_0119_0', 'panel_0119_1', 'panel_0120_0', 'panel_0120_1', 'panel_0121_0', 'panel_0121_1', 'panel_0122_0', 'panel_0122_1', 'panel_0123_0', 'panel_0123_1', 'panel_0124_0', 'panel_0124_1', 'panel_0125_0', 'panel_0125_1', 'panel_0126_0', 'panel_0126_1', 'panel_0127_0', 'panel_0127_1', 'panel_0128_0', 'panel_0128_1', 'panel_0129_0', 'panel_0129_1', 'panel_0130_0', 'panel_0130_1', 'panel_0131_0', 'panel_0131_1', 'panel_0132_0', 'panel_0132_1', 'panel_0133_0', 'panel_0133_1', 'panel_0134_0', 'panel_0134_1', 'panel_0135_0', 'panel_0135_1', 'panel_0136_0', 'panel_0136_1', 'panel_0137_0', 'panel_0137_1', 'panel_0138_0', 'panel_0138_1', 'panel_0139_0', 'panel_0139_1', 'panel_0140_0', 'panel_0140_1', 'panel_0141_0', 'panel_0141_1', 'panel_0142_0', 'panel_0142_1']\n"
     ]
    }
   ],
   "source": [
    "panel_names = []\n",
    "\n",
    "with open('panel_names.txt', 'r') as file:\n",
    "    for line in file:\n",
    "        panel_names.append(line.strip())\n",
    "\n",
    "print(panel_names)"
   ]
  },
  {
   "cell_type": "markdown",
   "metadata": {},
   "source": [
    "## Create panel DF"
   ]
  },
  {
   "cell_type": "code",
   "execution_count": 10,
   "metadata": {},
   "outputs": [
    {
     "name": "stderr",
     "output_type": "stream",
     "text": [
      "100%|██████████| 280/280 [00:25<00:00, 10.86it/s]\n"
     ]
    }
   ],
   "source": [
    "dictlist = []\n",
    "\n",
    "for pname in tqdm(panel_names[:]):\n",
    "    panel = PanelData(pname)\n",
    "    row = {\n",
    "        'panel id': pname,\n",
    "        'flat reference': panel.flat.panel_id,\n",
    "        'foam reference': panel.foam.panel_id,\n",
    "        'macrostructure reference': panel.macrostructure,\n",
    "        'mesostructure reference': panel.typology,\n",
    "        'sand type': panel.print_sand_type,\n",
    "        'binder type': panel.print_binder_type,\n",
    "    }\n",
    "    dictlist.append(row)\n",
    "\n",
    "panel_df = pd.DataFrame(dictlist)"
   ]
  },
  {
   "cell_type": "code",
   "execution_count": 5,
   "metadata": {},
   "outputs": [],
   "source": [
    "panel_df = pd.read_csv('panel_info.csv', header=0)"
   ]
  },
  {
   "cell_type": "code",
   "execution_count": 6,
   "metadata": {},
   "outputs": [
    {
     "data": {
      "text/html": [
       "<div>\n",
       "<style scoped>\n",
       "    .dataframe tbody tr th:only-of-type {\n",
       "        vertical-align: middle;\n",
       "    }\n",
       "\n",
       "    .dataframe tbody tr th {\n",
       "        vertical-align: top;\n",
       "    }\n",
       "\n",
       "    .dataframe thead th {\n",
       "        text-align: right;\n",
       "    }\n",
       "</style>\n",
       "<table border=\"1\" class=\"dataframe\">\n",
       "  <thead>\n",
       "    <tr style=\"text-align: right;\">\n",
       "      <th></th>\n",
       "      <th>panel id</th>\n",
       "      <th>flat reference</th>\n",
       "      <th>foam reference</th>\n",
       "      <th>macrostructure reference</th>\n",
       "      <th>mesostructure reference</th>\n",
       "      <th>sand type</th>\n",
       "      <th>binder type</th>\n",
       "    </tr>\n",
       "  </thead>\n",
       "  <tbody>\n",
       "    <tr>\n",
       "      <th>0</th>\n",
       "      <td>mean_flat_cg</td>\n",
       "      <td>mean_flat_cg</td>\n",
       "      <td>mean_foam_2</td>\n",
       "      <td>flat</td>\n",
       "      <td>Baseline_mean</td>\n",
       "      <td>Quartz sand, avg grain size=190 micron</td>\n",
       "      <td>Furan binder</td>\n",
       "    </tr>\n",
       "    <tr>\n",
       "      <th>1</th>\n",
       "      <td>mean_flat_rfl_1</td>\n",
       "      <td>mean_flat_rfl_1</td>\n",
       "      <td>mean_foam_1</td>\n",
       "      <td>flat</td>\n",
       "      <td>Baseline_mean</td>\n",
       "      <td>GS14 sand, avg grain size=140 micron</td>\n",
       "      <td>Phenolic binder</td>\n",
       "    </tr>\n",
       "  </tbody>\n",
       "</table>\n",
       "</div>"
      ],
      "text/plain": [
       "          panel id   flat reference foam reference macrostructure reference  \\\n",
       "0     mean_flat_cg     mean_flat_cg    mean_foam_2                     flat   \n",
       "1  mean_flat_rfl_1  mean_flat_rfl_1    mean_foam_1                     flat   \n",
       "\n",
       "  mesostructure reference                               sand type  \\\n",
       "0           Baseline_mean  Quartz sand, avg grain size=190 micron   \n",
       "1           Baseline_mean    GS14 sand, avg grain size=140 micron   \n",
       "\n",
       "       binder type  \n",
       "0     Furan binder  \n",
       "1  Phenolic binder  "
      ]
     },
     "execution_count": 6,
     "metadata": {},
     "output_type": "execute_result"
    }
   ],
   "source": [
    "panel_df.head(2)"
   ]
  },
  {
   "cell_type": "code",
   "execution_count": 11,
   "metadata": {},
   "outputs": [],
   "source": [
    "# panel_df.to_csv('panel_info.csv', index=False, header=True, mode='w')"
   ]
  },
  {
   "cell_type": "markdown",
   "metadata": {},
   "source": [
    "## Create combinations DF"
   ]
  },
  {
   "cell_type": "code",
   "execution_count": 4,
   "metadata": {},
   "outputs": [],
   "source": [
    "from compas.geometry import Vector, Point\n",
    "from gir.dataset.grid import SURFACE_BOTTOMZ, SURFACE_TOPZ\n",
    "from scipy.signal import find_peaks\n",
    "grid = REFERENCE.GRID\n",
    "\n",
    "def angle_from_cells(mcell, scell):\n",
    "    \"\"\"Returns angle of incidence (in deg) of sound when travelling from mcell to panel surface to scell\n",
    "\n",
    "    Args:\n",
    "        mcell (celltuple): mic cell, tuple of ints\n",
    "        scell (celltuple): speaker cell, tuple of ints\n",
    "\n",
    "    Returns:\n",
    "        float: Angle of incidence, degrees.\n",
    "    \"\"\"\n",
    "    mcellpos = copy(grid.position(mcell))\n",
    "    scellpos = copy(grid.position(scell))\n",
    "    mcellpos.z = abs(mcellpos.z)\n",
    "    scellpos.z = abs(scellpos.z)\n",
    "    scellposref = Point(scellpos.x, scellpos.y, -scellpos.z+2*SURFACE_TOPZ)\n",
    "    angle_rad = (mcellpos - scellposref).angle(Vector(0, 0, 1))\n",
    "    return np.abs(np.rad2deg(angle_rad))\n",
    "\n",
    "def echo_delay_from_cells(mcell, scell, surface_top=SURFACE_TOPZ):\n",
    "    \"\"\"Returns echo delay (in samples, float) of sound when travelling from mcell to panel surface to scell\"\"\"\n",
    "    mcellpos = copy(grid.position(mcell))\n",
    "    scellpos = copy(grid.position(scell))\n",
    "    mcellpos.z = abs(mcellpos.z) - surface_top\n",
    "    scellpos.z = -(abs(scellpos.z) - surface_top)\n",
    "    return (mcellpos - scellpos).length / 343e3 * fs\n",
    "\n",
    "def direct_path_delay_from_cells(mcell, scell):\n",
    "    \"\"\"Returns direct path delay (in samples, float) of sound when travelling from mcell to scell directly\"\"\"\n",
    "    mcellpos = copy(grid.position(mcell))\n",
    "    scellpos = copy(grid.position(scell))\n",
    "    mcellpos.z = abs(mcellpos.z)\n",
    "    scellpos.z = abs(scellpos.z)\n",
    "    return (mcellpos - scellpos).length / 343e3 * fs\n",
    "\n",
    "def dp_angles(mcell, scell, surface_top=SURFACE_TOPZ):\n",
    "    mcellpos: Point = copy(grid.position(mcell))\n",
    "    scellpos: Point = copy(grid.position(scell))\n",
    "    mcellpos.z = abs(mcellpos.z)\n",
    "    scellpos.z = abs(scellpos.z)\n",
    "    # get mcell's reflected point; same for scell\n",
    "    mcellposref = Point(mcellpos.x, mcellpos.y, -mcellpos.z+2*surface_top)\n",
    "    scellposref = Point(scellpos.x, scellpos.y, -scellpos.z+2*surface_top)\n",
    "    spkr_emit_angle = (mcellpos - scellpos).angle(mcellposref - scellpos)\n",
    "    mic_rec_angle = (scellpos - mcellpos).angle(scellposref - mcellpos)\n",
    "\n",
    "    return np.abs(np.rad2deg((spkr_emit_angle, mic_rec_angle)))\n",
    "    \n",
    "def two_largest_peaks(ir):\n",
    "    \"\"\"Returns the two largest peaks in an impulse response\"\"\"\n",
    "    peaks, _ = find_peaks(ir, distance=10)\n",
    "    if len(peaks) < 2:\n",
    "        return None\n",
    "    peak_vals = ir[peaks]               # get heights\n",
    "    sorted_idxs = np.argsort(peak_vals) # get indices of sorted heights\n",
    "    peaks = peaks[sorted_idxs[-2:]]     # get indices of two largest peaks\n",
    "    return np.sort(peaks)               # return them in order of direct path, echo path\n",
    "                                        # (direct path is always first)"
   ]
  },
  {
   "cell_type": "code",
   "execution_count": 6,
   "metadata": {},
   "outputs": [
    {
     "name": "stdout",
     "output_type": "stream",
     "text": [
      "speaker emit angle: 37.11767114870481\n",
      "mic receive angle: 102.44635983574976\n",
      "incidence angle: 20.217984507772712\n",
      "combination: 2939\n",
      "echo sample delay: 235.8858238745783\n",
      "direct path sample delay: 88.15771188951236\n"
     ]
    }
   ],
   "source": [
    "%matplotlib qt\n",
    "panel = PanelData(panel_names[45])\n",
    "\n",
    "mcell = (2, 0, 0)\n",
    "scell = (3, 0, 0)\n",
    "sea, mra = dp_angles(mcell, scell)\n",
    "print(f'speaker emit angle: {sea}')\n",
    "print(f'mic receive angle: {mra}')\n",
    "ia = angle_from_cells(mcell, scell)\n",
    "print(f'incidence angle: {ia}')\n",
    "\n",
    "c = grid.combination_num_from_cells(mcell, scell)\n",
    "# c = 2073\n",
    "print(f'combination: {c}')\n",
    "\n",
    "ir = panel.impulse_response_from_combination(c)\n",
    "echo_delay_bottom = echo_delay_from_cells(mcell, scell, SURFACE_BOTTOMZ)\n",
    "echo_delay_top = echo_delay_from_cells(mcell, scell, SURFACE_TOPZ)\n",
    "echo_delay_gpy = grid.travel_distance_over_surface(mcell, scell) / 343e3 * fs\n",
    "direct_path_delay = direct_path_delay_from_cells(mcell, scell)\n",
    "\n",
    "direct_path_fp, echo_path_fp = two_largest_peaks(ir)\n",
    "\n",
    "print(f'echo sample delay: {echo_delay_bottom}')\n",
    "print(f'direct path sample delay: {direct_path_delay}')\n",
    "\n",
    "plt.plot(ir)\n",
    "plt.axvline(echo_delay_bottom, linestyle='--', color='red', label='echo (bottomz)')\n",
    "plt.axvline(echo_delay_top, linestyle='--', color='green', label='echo (topz)')\n",
    "plt.axvline(echo_delay_gpy, linestyle=':', color='purple', label='grid.travel_distance')\n",
    "plt.axvline(echo_path_fp, linestyle=':', color='blue', label='echo path fp')\n",
    "\n",
    "plt.axvline(direct_path_delay, linestyle=':', color='pink', label='direct path')\n",
    "plt.axvline(direct_path_fp, linestyle=':', color='orange', label='direct path fp')\n",
    "plt.legend()\n",
    "plt.grid(True)\n",
    "plt.show()"
   ]
  },
  {
   "cell_type": "code",
   "execution_count": 15,
   "metadata": {},
   "outputs": [
    {
     "name": "stderr",
     "output_type": "stream",
     "text": [
      "100%|██████████| 2951/2951 [00:00<00:00, 4370.91it/s]\n"
     ]
    }
   ],
   "source": [
    "dictlist = []\n",
    "for c in tqdm(panel.combination_numbers):\n",
    "    mcell, scell = grid.cells_from_combination_num(c)\n",
    "    sea, mra = dp_angles(mcell, scell)\n",
    "    ia = angle_from_cells(mcell, scell)\n",
    "    assert np.isclose(sea+mra+2*ia, 180, atol=1.), f'Sanity check failed for combnum {c}, panel {panel.panel_id}, sea {sea}, mra {mra}, ia {ia}'\n",
    "    row = {\n",
    "        'combination': c,\n",
    "        'mic cell': np.array(mcell),\n",
    "        'spkr cell': np.array(scell),\n",
    "        'angle': np.round(ia, 2),\n",
    "        'dp dly (geo)': direct_path_delay_from_cells(mcell, scell),\n",
    "        'echo dly (bz)': echo_delay_from_cells(mcell, scell, SURFACE_BOTTOMZ),\n",
    "        'echo dly (tz)': echo_delay_from_cells(mcell, scell, SURFACE_TOPZ),\n",
    "        'echo dly (gpy)': grid.travel_distance_over_surface(mcell, scell) / 343e3 * fs,\n",
    "        'spkr emit angle': np.round(sea),\n",
    "        'mic rec angle': np.round(mra),\n",
    "        # surface incidence angle?\n",
    "    }\n",
    "    row['dp echo diff'] =(row['echo dly (bz)'] + row['echo dly (tz)']) / 2 - row['dp dly (geo)']\n",
    "\n",
    "    dictlist.append(row)\n",
    "\n",
    "combs_df = pd.DataFrame(dictlist)"
   ]
  },
  {
   "cell_type": "code",
   "execution_count": 16,
   "metadata": {},
   "outputs": [
    {
     "data": {
      "text/html": [
       "<div>\n",
       "<style scoped>\n",
       "    .dataframe tbody tr th:only-of-type {\n",
       "        vertical-align: middle;\n",
       "    }\n",
       "\n",
       "    .dataframe tbody tr th {\n",
       "        vertical-align: top;\n",
       "    }\n",
       "\n",
       "    .dataframe thead th {\n",
       "        text-align: right;\n",
       "    }\n",
       "</style>\n",
       "<table border=\"1\" class=\"dataframe\">\n",
       "  <thead>\n",
       "    <tr style=\"text-align: right;\">\n",
       "      <th></th>\n",
       "      <th>combination</th>\n",
       "      <th>mic cell</th>\n",
       "      <th>spkr cell</th>\n",
       "      <th>angle</th>\n",
       "      <th>dp dly (geo)</th>\n",
       "      <th>echo dly (bz)</th>\n",
       "      <th>echo dly (tz)</th>\n",
       "      <th>echo dly (gpy)</th>\n",
       "      <th>spkr emit angle</th>\n",
       "      <th>mic rec angle</th>\n",
       "      <th>dp echo diff</th>\n",
       "    </tr>\n",
       "  </thead>\n",
       "  <tbody>\n",
       "    <tr>\n",
       "      <th>0</th>\n",
       "      <td>1</td>\n",
       "      <td>[0, 0, 0]</td>\n",
       "      <td>[0, 0, 1]</td>\n",
       "      <td>21.54</td>\n",
       "      <td>20.991254</td>\n",
       "      <td>78.429796</td>\n",
       "      <td>57.170934</td>\n",
       "      <td>57.170934</td>\n",
       "      <td>68.0</td>\n",
       "      <td>68.0</td>\n",
       "      <td>46.809111</td>\n",
       "    </tr>\n",
       "    <tr>\n",
       "      <th>1</th>\n",
       "      <td>2</td>\n",
       "      <td>[0, 0, 0]</td>\n",
       "      <td>[0, 0, 2]</td>\n",
       "      <td>38.29</td>\n",
       "      <td>41.982507</td>\n",
       "      <td>86.447273</td>\n",
       "      <td>67.752593</td>\n",
       "      <td>67.752593</td>\n",
       "      <td>52.0</td>\n",
       "      <td>52.0</td>\n",
       "      <td>35.117426</td>\n",
       "    </tr>\n",
       "    <tr>\n",
       "      <th>2</th>\n",
       "      <td>3</td>\n",
       "      <td>[0, 0, 0]</td>\n",
       "      <td>[0, 0, 3]</td>\n",
       "      <td>49.82</td>\n",
       "      <td>62.973761</td>\n",
       "      <td>98.368159</td>\n",
       "      <td>82.423161</td>\n",
       "      <td>82.423161</td>\n",
       "      <td>40.0</td>\n",
       "      <td>40.0</td>\n",
       "      <td>27.421899</td>\n",
       "    </tr>\n",
       "    <tr>\n",
       "      <th>3</th>\n",
       "      <td>4</td>\n",
       "      <td>[0, 0, 0]</td>\n",
       "      <td>[0, 0, 4]</td>\n",
       "      <td>57.65</td>\n",
       "      <td>83.965015</td>\n",
       "      <td>112.963374</td>\n",
       "      <td>99.388161</td>\n",
       "      <td>99.388161</td>\n",
       "      <td>32.0</td>\n",
       "      <td>32.0</td>\n",
       "      <td>22.210753</td>\n",
       "    </tr>\n",
       "    <tr>\n",
       "      <th>4</th>\n",
       "      <td>5</td>\n",
       "      <td>[0, 0, 0]</td>\n",
       "      <td>[0, 0, 5]</td>\n",
       "      <td>63.13</td>\n",
       "      <td>104.956268</td>\n",
       "      <td>129.330655</td>\n",
       "      <td>117.659259</td>\n",
       "      <td>117.659259</td>\n",
       "      <td>27.0</td>\n",
       "      <td>27.0</td>\n",
       "      <td>18.538689</td>\n",
       "    </tr>\n",
       "  </tbody>\n",
       "</table>\n",
       "</div>"
      ],
      "text/plain": [
       "   combination   mic cell  spkr cell  angle  dp dly (geo)  echo dly (bz)  \\\n",
       "0            1  [0, 0, 0]  [0, 0, 1]  21.54     20.991254      78.429796   \n",
       "1            2  [0, 0, 0]  [0, 0, 2]  38.29     41.982507      86.447273   \n",
       "2            3  [0, 0, 0]  [0, 0, 3]  49.82     62.973761      98.368159   \n",
       "3            4  [0, 0, 0]  [0, 0, 4]  57.65     83.965015     112.963374   \n",
       "4            5  [0, 0, 0]  [0, 0, 5]  63.13    104.956268     129.330655   \n",
       "\n",
       "   echo dly (tz)  echo dly (gpy)  spkr emit angle  mic rec angle  dp echo diff  \n",
       "0      57.170934       57.170934             68.0           68.0     46.809111  \n",
       "1      67.752593       67.752593             52.0           52.0     35.117426  \n",
       "2      82.423161       82.423161             40.0           40.0     27.421899  \n",
       "3      99.388161       99.388161             32.0           32.0     22.210753  \n",
       "4     117.659259      117.659259             27.0           27.0     18.538689  "
      ]
     },
     "execution_count": 16,
     "metadata": {},
     "output_type": "execute_result"
    }
   ],
   "source": [
    "combs_df.head()"
   ]
  },
  {
   "cell_type": "code",
   "execution_count": 26,
   "metadata": {},
   "outputs": [
    {
     "name": "stderr",
     "output_type": "stream",
     "text": [
      "c:\\Users\\Lenovo\\AppData\\Local\\Programs\\Python\\Python38\\lib\\site-packages\\pandas\\core\\generic.py:2431: PerformanceWarning: \n",
      "your performance may suffer as PyTables will pickle object types that it cannot\n",
      "map directly to c-types [inferred_type->mixed,key->block2_values] [items->Index(['mic cell', 'spkr cell'], dtype='object')]\n",
      "\n",
      "  pytables.to_hdf(\n"
     ]
    }
   ],
   "source": [
    "# combs_df.to_csv('combinations_df.csv', index=False, header=True, mode='w')\n",
    "# to load csv:\n",
    "# combinations_df = pd.read_csv(DF_PATH + '/combinations_df.csv')\n",
    "combs_df.to_hdf('combinations_df.h5', key='df', mode='w')"
   ]
  }
 ],
 "metadata": {
  "kernelspec": {
   "display_name": "Python 3",
   "language": "python",
   "name": "python3"
  },
  "language_info": {
   "codemirror_mode": {
    "name": "ipython",
    "version": 3
   },
   "file_extension": ".py",
   "mimetype": "text/x-python",
   "name": "python",
   "nbconvert_exporter": "python",
   "pygments_lexer": "ipython3",
   "version": "3.8.10"
  }
 },
 "nbformat": 4,
 "nbformat_minor": 2
}
